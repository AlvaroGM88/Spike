{
 "cells": [
  {
   "cell_type": "markdown",
   "metadata": {},
   "source": [
    "# __Desafio Spike__\n",
    "#### Por: Alvaro Gonzalez M.\n",
    "#### email: algonmag@gmail.com"
   ]
  },
  {
   "cell_type": "markdown",
   "metadata": {},
   "source": [
    "##### Bibliotecas"
   ]
  },
  {
   "cell_type": "code",
   "execution_count": 75,
   "metadata": {},
   "outputs": [],
   "source": [
    "import os\n",
    "import pandas as pd\n",
    "import numpy as np\n",
    "import matplotlib.pyplot as plt\n",
    "\n",
    "%matplotlib inline"
   ]
  },
  {
   "cell_type": "markdown",
   "metadata": {},
   "source": [
    "##### Directorio"
   ]
  },
  {
   "cell_type": "code",
   "execution_count": 6,
   "metadata": {},
   "outputs": [
    {
     "data": {
      "text/plain": [
       "'C:\\\\Users\\\\algon\\\\OneDrive\\\\Desktop\\\\Spike'"
      ]
     },
     "execution_count": 6,
     "metadata": {},
     "output_type": "execute_result"
    }
   ],
   "source": [
    "os.chdir(os.getcwd()) #set directory\n",
    "os.getcwd() #check directori"
   ]
  },
  {
   "cell_type": "markdown",
   "metadata": {},
   "source": [
    "### Preguntas"
   ]
  },
  {
   "cell_type": "markdown",
   "metadata": {},
   "source": [
    "##### __1. Costo Marginales__"
   ]
  },
  {
   "cell_type": "markdown",
   "metadata": {},
   "source": [
    "- Carga el archivo costo_marginal_real.csv. Estos son los costos marginales reales observados."
   ]
  },
  {
   "cell_type": "code",
   "execution_count": 195,
   "metadata": {},
   "outputs": [],
   "source": [
    "CMg_real = pd.read_csv('costo_marginal_real.csv') #upload data set"
   ]
  },
  {
   "cell_type": "code",
   "execution_count": 196,
   "metadata": {},
   "outputs": [
    {
     "data": {
      "text/html": [
       "<div>\n",
       "<style scoped>\n",
       "    .dataframe tbody tr th:only-of-type {\n",
       "        vertical-align: middle;\n",
       "    }\n",
       "\n",
       "    .dataframe tbody tr th {\n",
       "        vertical-align: top;\n",
       "    }\n",
       "\n",
       "    .dataframe thead th {\n",
       "        text-align: right;\n",
       "    }\n",
       "</style>\n",
       "<table border=\"1\" class=\"dataframe\">\n",
       "  <thead>\n",
       "    <tr style=\"text-align: right;\">\n",
       "      <th></th>\n",
       "      <th>barra_mnemotecnico</th>\n",
       "      <th>barra_referencia_mnemotecnico</th>\n",
       "      <th>fecha</th>\n",
       "      <th>hora</th>\n",
       "      <th>costo_en_dolares</th>\n",
       "      <th>costo_en_pesos</th>\n",
       "      <th>nombre</th>\n",
       "    </tr>\n",
       "  </thead>\n",
       "  <tbody>\n",
       "    <tr>\n",
       "      <th>0</th>\n",
       "      <td>BA01T005SE075T005</td>\n",
       "      <td>BA02T002SE032T002</td>\n",
       "      <td>2019-04-06</td>\n",
       "      <td>25</td>\n",
       "      <td>62.24</td>\n",
       "      <td>41.47176</td>\n",
       "      <td>BA S/E LORETO 15KV</td>\n",
       "    </tr>\n",
       "    <tr>\n",
       "      <th>1</th>\n",
       "      <td>BA01T005SE175T005</td>\n",
       "      <td>BA02T002SE032T002</td>\n",
       "      <td>2019-04-06</td>\n",
       "      <td>25</td>\n",
       "      <td>62.56</td>\n",
       "      <td>41.68498</td>\n",
       "      <td>BA S/E RETIRO 13.2KV</td>\n",
       "    </tr>\n",
       "    <tr>\n",
       "      <th>2</th>\n",
       "      <td>BA03R002SE002R002</td>\n",
       "      <td>BA02T002SE032T002</td>\n",
       "      <td>2019-04-06</td>\n",
       "      <td>25</td>\n",
       "      <td>60.04</td>\n",
       "      <td>40.00585</td>\n",
       "      <td>BA S/E ALTAMIRANO 12.5KV BP1</td>\n",
       "    </tr>\n",
       "    <tr>\n",
       "      <th>3</th>\n",
       "      <td>BA01R002SE012R002</td>\n",
       "      <td>BA02T002SE032T002</td>\n",
       "      <td>2019-04-06</td>\n",
       "      <td>25</td>\n",
       "      <td>61.65</td>\n",
       "      <td>41.07863</td>\n",
       "      <td>BA S/E CURACAVI 44KV B1</td>\n",
       "    </tr>\n",
       "    <tr>\n",
       "      <th>4</th>\n",
       "      <td>BA03R002SE013R002</td>\n",
       "      <td>BA02T002SE032T002</td>\n",
       "      <td>2019-04-06</td>\n",
       "      <td>25</td>\n",
       "      <td>59.55</td>\n",
       "      <td>39.67936</td>\n",
       "      <td>BA S/E EL MANZANO (ENEL DISTRIBUCIÓN) 23KV BP1</td>\n",
       "    </tr>\n",
       "  </tbody>\n",
       "</table>\n",
       "</div>"
      ],
      "text/plain": [
       "  barra_mnemotecnico barra_referencia_mnemotecnico       fecha  hora  \\\n",
       "0  BA01T005SE075T005             BA02T002SE032T002  2019-04-06    25   \n",
       "1  BA01T005SE175T005             BA02T002SE032T002  2019-04-06    25   \n",
       "2  BA03R002SE002R002             BA02T002SE032T002  2019-04-06    25   \n",
       "3  BA01R002SE012R002             BA02T002SE032T002  2019-04-06    25   \n",
       "4  BA03R002SE013R002             BA02T002SE032T002  2019-04-06    25   \n",
       "\n",
       "   costo_en_dolares  costo_en_pesos  \\\n",
       "0             62.24        41.47176   \n",
       "1             62.56        41.68498   \n",
       "2             60.04        40.00585   \n",
       "3             61.65        41.07863   \n",
       "4             59.55        39.67936   \n",
       "\n",
       "                                           nombre  \n",
       "0                              BA S/E LORETO 15KV  \n",
       "1                            BA S/E RETIRO 13.2KV  \n",
       "2                    BA S/E ALTAMIRANO 12.5KV BP1  \n",
       "3                         BA S/E CURACAVI 44KV B1  \n",
       "4  BA S/E EL MANZANO (ENEL DISTRIBUCIÓN) 23KV BP1  "
      ]
     },
     "execution_count": 196,
     "metadata": {},
     "output_type": "execute_result"
    }
   ],
   "source": [
    "CMg_real.head() #head data set"
   ]
  },
  {
   "cell_type": "code",
   "execution_count": 140,
   "metadata": {},
   "outputs": [
    {
     "data": {
      "text/plain": [
       "(4309951, 7)"
      ]
     },
     "execution_count": 140,
     "metadata": {},
     "output_type": "execute_result"
    }
   ],
   "source": [
    "CMg_real.shape #n of rows and columns"
   ]
  },
  {
   "cell_type": "code",
   "execution_count": 141,
   "metadata": {},
   "outputs": [
    {
     "data": {
      "text/plain": [
       "1020"
      ]
     },
     "execution_count": 141,
     "metadata": {},
     "output_type": "execute_result"
    }
   ],
   "source": [
    "CMg_real.barra_mnemotecnico.nunique() #unique values barra_mnemotecnico"
   ]
  },
  {
   "cell_type": "markdown",
   "metadata": {},
   "source": [
    "- Carga el archivo costo_marginal_programado.csv. Estos son los costos marginales previstos por el sistema."
   ]
  },
  {
   "cell_type": "code",
   "execution_count": 142,
   "metadata": {},
   "outputs": [],
   "source": [
    "CMg_prog = pd.read_csv('costo_marginal_programado.csv') #upload data set"
   ]
  },
  {
   "cell_type": "code",
   "execution_count": 143,
   "metadata": {},
   "outputs": [
    {
     "data": {
      "text/html": [
       "<div>\n",
       "<style scoped>\n",
       "    .dataframe tbody tr th:only-of-type {\n",
       "        vertical-align: middle;\n",
       "    }\n",
       "\n",
       "    .dataframe tbody tr th {\n",
       "        vertical-align: top;\n",
       "    }\n",
       "\n",
       "    .dataframe thead th {\n",
       "        text-align: right;\n",
       "    }\n",
       "</style>\n",
       "<table border=\"1\" class=\"dataframe\">\n",
       "  <thead>\n",
       "    <tr style=\"text-align: right;\">\n",
       "      <th></th>\n",
       "      <th>mnemotecnico_barra</th>\n",
       "      <th>nombre_barra</th>\n",
       "      <th>fecha</th>\n",
       "      <th>hora</th>\n",
       "      <th>costo</th>\n",
       "    </tr>\n",
       "  </thead>\n",
       "  <tbody>\n",
       "    <tr>\n",
       "      <th>0</th>\n",
       "      <td>BA01T002SE002T002</td>\n",
       "      <td>BA S/E ALTO JAHUEL 110KV SECCION 1</td>\n",
       "      <td>2019-01-01</td>\n",
       "      <td>1</td>\n",
       "      <td>49.897334</td>\n",
       "    </tr>\n",
       "    <tr>\n",
       "      <th>1</th>\n",
       "      <td>BA01T002SE002T002</td>\n",
       "      <td>BA S/E ALTO JAHUEL 110KV SECCION 1</td>\n",
       "      <td>2019-01-01</td>\n",
       "      <td>2</td>\n",
       "      <td>50.471616</td>\n",
       "    </tr>\n",
       "    <tr>\n",
       "      <th>2</th>\n",
       "      <td>BA01T002SE002T002</td>\n",
       "      <td>BA S/E ALTO JAHUEL 110KV SECCION 1</td>\n",
       "      <td>2019-01-01</td>\n",
       "      <td>3</td>\n",
       "      <td>50.077821</td>\n",
       "    </tr>\n",
       "    <tr>\n",
       "      <th>3</th>\n",
       "      <td>BA01T002SE002T002</td>\n",
       "      <td>BA S/E ALTO JAHUEL 110KV SECCION 1</td>\n",
       "      <td>2019-01-01</td>\n",
       "      <td>4</td>\n",
       "      <td>49.796216</td>\n",
       "    </tr>\n",
       "    <tr>\n",
       "      <th>4</th>\n",
       "      <td>BA01T002SE002T002</td>\n",
       "      <td>BA S/E ALTO JAHUEL 110KV SECCION 1</td>\n",
       "      <td>2019-01-01</td>\n",
       "      <td>5</td>\n",
       "      <td>49.796216</td>\n",
       "    </tr>\n",
       "  </tbody>\n",
       "</table>\n",
       "</div>"
      ],
      "text/plain": [
       "  mnemotecnico_barra                        nombre_barra       fecha  hora  \\\n",
       "0  BA01T002SE002T002  BA S/E ALTO JAHUEL 110KV SECCION 1  2019-01-01     1   \n",
       "1  BA01T002SE002T002  BA S/E ALTO JAHUEL 110KV SECCION 1  2019-01-01     2   \n",
       "2  BA01T002SE002T002  BA S/E ALTO JAHUEL 110KV SECCION 1  2019-01-01     3   \n",
       "3  BA01T002SE002T002  BA S/E ALTO JAHUEL 110KV SECCION 1  2019-01-01     4   \n",
       "4  BA01T002SE002T002  BA S/E ALTO JAHUEL 110KV SECCION 1  2019-01-01     5   \n",
       "\n",
       "       costo  \n",
       "0  49.897334  \n",
       "1  50.471616  \n",
       "2  50.077821  \n",
       "3  49.796216  \n",
       "4  49.796216  "
      ]
     },
     "execution_count": 143,
     "metadata": {},
     "output_type": "execute_result"
    }
   ],
   "source": [
    "CMg_prog.head() #head of the dataset"
   ]
  },
  {
   "cell_type": "code",
   "execution_count": 144,
   "metadata": {},
   "outputs": [
    {
     "data": {
      "text/plain": [
       "(1192124, 5)"
      ]
     },
     "execution_count": 144,
     "metadata": {},
     "output_type": "execute_result"
    }
   ],
   "source": [
    "CMg_prog.shape #shape of the dataframe"
   ]
  },
  {
   "cell_type": "code",
   "execution_count": 145,
   "metadata": {},
   "outputs": [
    {
     "data": {
      "text/plain": [
       "239"
      ]
     },
     "execution_count": 145,
     "metadata": {},
     "output_type": "execute_result"
    }
   ],
   "source": [
    "CMg_prog.mnemotecnico_barra.nunique() #unique values mnemotecnico"
   ]
  },
  {
   "cell_type": "markdown",
   "metadata": {},
   "source": [
    "- Haz un merge del costos marginal real con el costo marginal programado a nivel de barra (*Ayuda: la columna de join no se llama igual en ambas bases! Los datos venían así del SIC *). Llama a esta nueva base costo_marginal\n",
    "<br>\n",
    "\n",
    "##### <br> __Supuestos__ : En base a las siguentes preguntas voy a suponer que el row driver sera dado por la base de costos marginales reales, y el merge se tiene que hacer en base a nivel barra, dia y hora.\n",
    "<br>"
   ]
  },
  {
   "cell_type": "code",
   "execution_count": 197,
   "metadata": {},
   "outputs": [],
   "source": [
    "costo_marginal = pd.merge(CMg_real, CMg_prog, how='left', left_on =['barra_mnemotecnico','fecha','hora'],right_on=['mnemotecnico_barra','fecha','hora'])"
   ]
  },
  {
   "cell_type": "code",
   "execution_count": 198,
   "metadata": {},
   "outputs": [
    {
     "data": {
      "text/plain": [
       "(4322410, 10)"
      ]
     },
     "execution_count": 198,
     "metadata": {},
     "output_type": "execute_result"
    }
   ],
   "source": [
    "costo_marginal.shape #shape of the resulting merge"
   ]
  },
  {
   "cell_type": "code",
   "execution_count": 199,
   "metadata": {},
   "outputs": [
    {
     "data": {
      "text/plain": [
       "Index(['barra_mnemotecnico', 'barra_referencia_mnemotecnico', 'fecha', 'hora',\n",
       "       'costo_en_dolares', 'costo_en_pesos', 'nombre', 'mnemotecnico_barra',\n",
       "       'nombre_barra', 'costo'],\n",
       "      dtype='object')"
      ]
     },
     "execution_count": 199,
     "metadata": {},
     "output_type": "execute_result"
    }
   ],
   "source": [
    "costo_marginal.columns #columns names"
   ]
  },
  {
   "cell_type": "code",
   "execution_count": 200,
   "metadata": {},
   "outputs": [],
   "source": [
    "### renaming some columns\n",
    "costo_marginal.rename(columns={\"costo_en_dolares\":\"cmg_real\",\"costo\":\"cmg_prog\"},inplace=True)"
   ]
  },
  {
   "cell_type": "code",
   "execution_count": 208,
   "metadata": {},
   "outputs": [
    {
     "data": {
      "text/html": [
       "<div>\n",
       "<style scoped>\n",
       "    .dataframe tbody tr th:only-of-type {\n",
       "        vertical-align: middle;\n",
       "    }\n",
       "\n",
       "    .dataframe tbody tr th {\n",
       "        vertical-align: top;\n",
       "    }\n",
       "\n",
       "    .dataframe thead th {\n",
       "        text-align: right;\n",
       "    }\n",
       "</style>\n",
       "<table border=\"1\" class=\"dataframe\">\n",
       "  <thead>\n",
       "    <tr style=\"text-align: right;\">\n",
       "      <th></th>\n",
       "      <th>barra_mnemotecnico</th>\n",
       "      <th>barra_referencia_mnemotecnico</th>\n",
       "      <th>fecha</th>\n",
       "      <th>hora</th>\n",
       "      <th>cmg_real</th>\n",
       "      <th>costo_en_pesos</th>\n",
       "      <th>nombre</th>\n",
       "      <th>mnemotecnico_barra</th>\n",
       "      <th>nombre_barra</th>\n",
       "      <th>cmg_prog</th>\n",
       "    </tr>\n",
       "  </thead>\n",
       "  <tbody>\n",
       "    <tr>\n",
       "      <th>0</th>\n",
       "      <td>BA01T005SE075T005</td>\n",
       "      <td>BA02T002SE032T002</td>\n",
       "      <td>2019-04-06</td>\n",
       "      <td>25</td>\n",
       "      <td>62.24</td>\n",
       "      <td>41.47176</td>\n",
       "      <td>BA S/E LORETO 15KV</td>\n",
       "      <td>NaN</td>\n",
       "      <td>NaN</td>\n",
       "      <td>NaN</td>\n",
       "    </tr>\n",
       "    <tr>\n",
       "      <th>1</th>\n",
       "      <td>BA01T005SE175T005</td>\n",
       "      <td>BA02T002SE032T002</td>\n",
       "      <td>2019-04-06</td>\n",
       "      <td>25</td>\n",
       "      <td>62.56</td>\n",
       "      <td>41.68498</td>\n",
       "      <td>BA S/E RETIRO 13.2KV</td>\n",
       "      <td>NaN</td>\n",
       "      <td>NaN</td>\n",
       "      <td>NaN</td>\n",
       "    </tr>\n",
       "    <tr>\n",
       "      <th>2</th>\n",
       "      <td>BA03R002SE002R002</td>\n",
       "      <td>BA02T002SE032T002</td>\n",
       "      <td>2019-04-06</td>\n",
       "      <td>25</td>\n",
       "      <td>60.04</td>\n",
       "      <td>40.00585</td>\n",
       "      <td>BA S/E ALTAMIRANO 12.5KV BP1</td>\n",
       "      <td>NaN</td>\n",
       "      <td>NaN</td>\n",
       "      <td>NaN</td>\n",
       "    </tr>\n",
       "    <tr>\n",
       "      <th>3</th>\n",
       "      <td>BA01R002SE012R002</td>\n",
       "      <td>BA02T002SE032T002</td>\n",
       "      <td>2019-04-06</td>\n",
       "      <td>25</td>\n",
       "      <td>61.65</td>\n",
       "      <td>41.07863</td>\n",
       "      <td>BA S/E CURACAVI 44KV B1</td>\n",
       "      <td>NaN</td>\n",
       "      <td>NaN</td>\n",
       "      <td>NaN</td>\n",
       "    </tr>\n",
       "    <tr>\n",
       "      <th>4</th>\n",
       "      <td>BA03R002SE013R002</td>\n",
       "      <td>BA02T002SE032T002</td>\n",
       "      <td>2019-04-06</td>\n",
       "      <td>25</td>\n",
       "      <td>59.55</td>\n",
       "      <td>39.67936</td>\n",
       "      <td>BA S/E EL MANZANO (ENEL DISTRIBUCIÓN) 23KV BP1</td>\n",
       "      <td>NaN</td>\n",
       "      <td>NaN</td>\n",
       "      <td>NaN</td>\n",
       "    </tr>\n",
       "  </tbody>\n",
       "</table>\n",
       "</div>"
      ],
      "text/plain": [
       "  barra_mnemotecnico barra_referencia_mnemotecnico       fecha  hora  \\\n",
       "0  BA01T005SE075T005             BA02T002SE032T002  2019-04-06    25   \n",
       "1  BA01T005SE175T005             BA02T002SE032T002  2019-04-06    25   \n",
       "2  BA03R002SE002R002             BA02T002SE032T002  2019-04-06    25   \n",
       "3  BA01R002SE012R002             BA02T002SE032T002  2019-04-06    25   \n",
       "4  BA03R002SE013R002             BA02T002SE032T002  2019-04-06    25   \n",
       "\n",
       "   cmg_real  costo_en_pesos                                          nombre  \\\n",
       "0     62.24        41.47176                              BA S/E LORETO 15KV   \n",
       "1     62.56        41.68498                            BA S/E RETIRO 13.2KV   \n",
       "2     60.04        40.00585                    BA S/E ALTAMIRANO 12.5KV BP1   \n",
       "3     61.65        41.07863                         BA S/E CURACAVI 44KV B1   \n",
       "4     59.55        39.67936  BA S/E EL MANZANO (ENEL DISTRIBUCIÓN) 23KV BP1   \n",
       "\n",
       "  mnemotecnico_barra nombre_barra  cmg_prog  \n",
       "0                NaN          NaN       NaN  \n",
       "1                NaN          NaN       NaN  \n",
       "2                NaN          NaN       NaN  \n",
       "3                NaN          NaN       NaN  \n",
       "4                NaN          NaN       NaN  "
      ]
     },
     "execution_count": 208,
     "metadata": {},
     "output_type": "execute_result"
    }
   ],
   "source": [
    "\n",
    "costo_marginal.head()"
   ]
  },
  {
   "cell_type": "markdown",
   "metadata": {},
   "source": [
    "- Realiza un análisis exploratorio de la base resultante. ¿Qué puedes decir de las distintas variables? ¿Cómo distribuyen? En particular analiza las barras (barra_mnemotecnico). ¿Para cuántas barras se programa el costo? ¿Qué porcentaje es del total de barras que puedes observar en la base?"
   ]
  },
  {
   "cell_type": "code",
   "execution_count": 201,
   "metadata": {},
   "outputs": [
    {
     "data": {
      "text/html": [
       "<div>\n",
       "<style scoped>\n",
       "    .dataframe tbody tr th:only-of-type {\n",
       "        vertical-align: middle;\n",
       "    }\n",
       "\n",
       "    .dataframe tbody tr th {\n",
       "        vertical-align: top;\n",
       "    }\n",
       "\n",
       "    .dataframe thead th {\n",
       "        text-align: right;\n",
       "    }\n",
       "</style>\n",
       "<table border=\"1\" class=\"dataframe\">\n",
       "  <thead>\n",
       "    <tr style=\"text-align: right;\">\n",
       "      <th></th>\n",
       "      <th>hora</th>\n",
       "      <th>cmg_real</th>\n",
       "      <th>costo_en_pesos</th>\n",
       "      <th>cmg_prog</th>\n",
       "    </tr>\n",
       "  </thead>\n",
       "  <tbody>\n",
       "    <tr>\n",
       "      <th>count</th>\n",
       "      <td>4.322410e+06</td>\n",
       "      <td>4.322410e+06</td>\n",
       "      <td>4.322410e+06</td>\n",
       "      <td>913388.000000</td>\n",
       "    </tr>\n",
       "    <tr>\n",
       "      <th>mean</th>\n",
       "      <td>1.250287e+01</td>\n",
       "      <td>6.369302e+01</td>\n",
       "      <td>4.299025e+01</td>\n",
       "      <td>61.888004</td>\n",
       "    </tr>\n",
       "    <tr>\n",
       "      <th>std</th>\n",
       "      <td>6.923986e+00</td>\n",
       "      <td>2.798696e+01</td>\n",
       "      <td>1.863687e+01</td>\n",
       "      <td>23.806896</td>\n",
       "    </tr>\n",
       "    <tr>\n",
       "      <th>min</th>\n",
       "      <td>1.000000e+00</td>\n",
       "      <td>0.000000e+00</td>\n",
       "      <td>0.000000e+00</td>\n",
       "      <td>-12.113677</td>\n",
       "    </tr>\n",
       "    <tr>\n",
       "      <th>25%</th>\n",
       "      <td>7.000000e+00</td>\n",
       "      <td>5.064000e+01</td>\n",
       "      <td>3.410226e+01</td>\n",
       "      <td>49.981588</td>\n",
       "    </tr>\n",
       "    <tr>\n",
       "      <th>50%</th>\n",
       "      <td>1.300000e+01</td>\n",
       "      <td>5.609000e+01</td>\n",
       "      <td>3.798623e+01</td>\n",
       "      <td>55.057527</td>\n",
       "    </tr>\n",
       "    <tr>\n",
       "      <th>75%</th>\n",
       "      <td>1.900000e+01</td>\n",
       "      <td>6.588000e+01</td>\n",
       "      <td>4.470807e+01</td>\n",
       "      <td>64.181228</td>\n",
       "    </tr>\n",
       "    <tr>\n",
       "      <th>max</th>\n",
       "      <td>2.500000e+01</td>\n",
       "      <td>1.109970e+03</td>\n",
       "      <td>7.343561e+02</td>\n",
       "      <td>610.600000</td>\n",
       "    </tr>\n",
       "  </tbody>\n",
       "</table>\n",
       "</div>"
      ],
      "text/plain": [
       "               hora      cmg_real  costo_en_pesos       cmg_prog\n",
       "count  4.322410e+06  4.322410e+06    4.322410e+06  913388.000000\n",
       "mean   1.250287e+01  6.369302e+01    4.299025e+01      61.888004\n",
       "std    6.923986e+00  2.798696e+01    1.863687e+01      23.806896\n",
       "min    1.000000e+00  0.000000e+00    0.000000e+00     -12.113677\n",
       "25%    7.000000e+00  5.064000e+01    3.410226e+01      49.981588\n",
       "50%    1.300000e+01  5.609000e+01    3.798623e+01      55.057527\n",
       "75%    1.900000e+01  6.588000e+01    4.470807e+01      64.181228\n",
       "max    2.500000e+01  1.109970e+03    7.343561e+02     610.600000"
      ]
     },
     "execution_count": 201,
     "metadata": {},
     "output_type": "execute_result"
    }
   ],
   "source": [
    "costo_marginal.describe() # descriptive statistics"
   ]
  },
  {
   "cell_type": "code",
   "execution_count": 202,
   "metadata": {},
   "outputs": [
    {
     "data": {
      "text/plain": [
       "<matplotlib.axes._subplots.AxesSubplot at 0x251e5b9b608>"
      ]
     },
     "execution_count": 202,
     "metadata": {},
     "output_type": "execute_result"
    },
    {
     "data": {
      "image/png": "[encoded data removed]",
      "text/plain": [
       "<Figure size 432x288 with 1 Axes>"
      ]
     },
     "metadata": {
      "needs_background": "light"
     },
     "output_type": "display_data"
    }
   ],
   "source": [
    "####Analisis hora\n",
    "costo_marginal.hora.hist()"
   ]
  },
  {
   "cell_type": "markdown",
   "metadata": {},
   "source": [
    "Para las horas se aprecia que se reportan costos por barra más en ciertas horas que en otras. Tanto las horas peak, como el resto son similiares entre si haciendo esta distinción. "
   ]
  },
  {
   "cell_type": "code",
   "execution_count": 203,
   "metadata": {},
   "outputs": [
    {
     "data": {
      "text/plain": [
       "<matplotlib.axes._subplots.AxesSubplot at 0x2518b7aa208>"
      ]
     },
     "execution_count": 203,
     "metadata": {},
     "output_type": "execute_result"
    },
    {
     "data": {
      "image/png": "[encoded data removed]",
      "text/plain": [
       "<Figure size 432x288 with 1 Axes>"
      ]
     },
     "metadata": {
      "needs_background": "light"
     },
     "output_type": "display_data"
    }
   ],
   "source": [
    "#### Anlsiis costo marginal real\n",
    "costo_marginal.cmg_real.hist()"
   ]
  },
  {
   "cell_type": "code",
   "execution_count": 204,
   "metadata": {},
   "outputs": [
    {
     "data": {
      "text/plain": [
       "<matplotlib.axes._subplots.AxesSubplot at 0x2518b7eec48>"
      ]
     },
     "execution_count": 204,
     "metadata": {},
     "output_type": "execute_result"
    },
    {
     "data": {
      "image/png": "[encoded data removed]",
      "text/plain": [
       "<Figure size 432x288 with 1 Axes>"
      ]
     },
     "metadata": {
      "needs_background": "light"
     },
     "output_type": "display_data"
    }
   ],
   "source": [
    "costo_marginal.boxplot(column='cmg_real')"
   ]
  },
  {
   "cell_type": "markdown",
   "metadata": {},
   "source": [
    "Para los costos marginales reales se aprecia que la distribucion esta altamente skew hacia la izquierda, y el boxplot muestra que tiene varias obsevaciones que podrian considerarse outliers."
   ]
  },
  {
   "cell_type": "code",
   "execution_count": 205,
   "metadata": {},
   "outputs": [
    {
     "data": {
      "text/plain": [
       "<matplotlib.axes._subplots.AxesSubplot at 0x2518b88d988>"
      ]
     },
     "execution_count": 205,
     "metadata": {},
     "output_type": "execute_result"
    },
    {
     "data": {
      "image/png": "[encoded data removed]",
      "text/plain": [
       "<Figure size 432x288 with 1 Axes>"
      ]
     },
     "metadata": {
      "needs_background": "light"
     },
     "output_type": "display_data"
    }
   ],
   "source": [
    "#### Anlsiis costo marginal programada\n",
    "costo_marginal.cmg_prog.hist()"
   ]
  },
  {
   "cell_type": "code",
   "execution_count": 206,
   "metadata": {},
   "outputs": [
    {
     "data": {
      "text/plain": [
       "<matplotlib.axes._subplots.AxesSubplot at 0x251ec873b48>"
      ]
     },
     "execution_count": 206,
     "metadata": {},
     "output_type": "execute_result"
    },
    {
     "data": {
      "image/png": "[encoded data removed]",
      "text/plain": [
       "<Figure size 432x288 with 1 Axes>"
      ]
     },
     "metadata": {
      "needs_background": "light"
     },
     "output_type": "display_data"
    }
   ],
   "source": [
    "costo_marginal.boxplot(column='cmg_prog')"
   ]
  },
  {
   "cell_type": "markdown",
   "metadata": {},
   "source": [
    "Para los costos marginales programados se aprecia que la distribucion esta altamente skew hacia la izquierda, y el boxplot muestra que tiene varias obsevaciones que podrian considerarse outliers. El analisis similar a la dos los costos reales, pero para esta variable se aprecia un menor numero de outliers y una menor asismetria"
   ]
  },
  {
   "cell_type": "code",
   "execution_count": 207,
   "metadata": {},
   "outputs": [
    {
     "name": "stdout",
     "output_type": "stream",
     "text": [
      "El numero total de barras por fecha y hora son: 4322410\n",
      "El porcentaje de barras por fecha y hora con costos programado es: 0.211\n",
      "El total de barras por fecha y hora con costos programado para todas las obs es: 220\n",
      "El porcentaje de barras por fecha y hora con costos programado para todas las obs del total de barras unicas es: 1.000\n"
     ]
    }
   ],
   "source": [
    "### barra_nemotecnico\n",
    "#Supuesto: Voy a responder para cuantas barra condicionado a la fecha hora se pograma el costo\n",
    "total_obs,_=costo_marginal.shape\n",
    "total_con_costo_prog, _ = costo_marginal.dropna().shape\n",
    "barras_unicas_sin_na = costo_marginal.dropna().mnemotecnico_barra.nunique()\n",
    "barras_unicas_totales = costo_marginal.mnemotecnico_barra.nunique()\n",
    "\n",
    "print('El numero total de barras por fecha y hora son: '\"%i\"%  (total_obs))\n",
    "print('El porcentaje de barras por fecha y hora con costos programado es: ' \"%.3f\"%  (total_con_costo_prog/total_obs))\n",
    "print('El total de barras por fecha y hora con costos programado para todas las obs es: ' \"%i\"%  (barras_unicas_sin_na))\n",
    "print('El porcentaje de barras por fecha y hora con costos programado para todas las obs del total de barras unicas es: ' \"%.3f\"%  (barras_unicas_sin_na/barras_unicas_totales))"
   ]
  },
  {
   "cell_type": "markdown",
   "metadata": {},
   "source": [
    "##### __2. Construcción de variables__"
   ]
  },
  {
   "cell_type": "code",
   "execution_count": 209,
   "metadata": {},
   "outputs": [
    {
     "data": {
      "text/html": [
       "<div>\n",
       "<style scoped>\n",
       "    .dataframe tbody tr th:only-of-type {\n",
       "        vertical-align: middle;\n",
       "    }\n",
       "\n",
       "    .dataframe tbody tr th {\n",
       "        vertical-align: top;\n",
       "    }\n",
       "\n",
       "    .dataframe thead th {\n",
       "        text-align: right;\n",
       "    }\n",
       "</style>\n",
       "<table border=\"1\" class=\"dataframe\">\n",
       "  <thead>\n",
       "    <tr style=\"text-align: right;\">\n",
       "      <th></th>\n",
       "      <th>barra_mnemotecnico</th>\n",
       "      <th>barra_referencia_mnemotecnico</th>\n",
       "      <th>fecha</th>\n",
       "      <th>hora</th>\n",
       "      <th>cmg_real</th>\n",
       "      <th>costo_en_pesos</th>\n",
       "      <th>nombre</th>\n",
       "      <th>mnemotecnico_barra</th>\n",
       "      <th>nombre_barra</th>\n",
       "      <th>cmg_prog</th>\n",
       "    </tr>\n",
       "  </thead>\n",
       "  <tbody>\n",
       "    <tr>\n",
       "      <th>13</th>\n",
       "      <td>BA01G021SE018G021</td>\n",
       "      <td>BA02T002SE032T002</td>\n",
       "      <td>2019-04-06</td>\n",
       "      <td>25</td>\n",
       "      <td>58.02</td>\n",
       "      <td>38.65989</td>\n",
       "      <td>BA S/E CENTRAL QUINTERO 220KV</td>\n",
       "      <td>BA01G021SE018G021</td>\n",
       "      <td>BA S/E CENTRAL QUINTERO 220KV</td>\n",
       "      <td>54.292145</td>\n",
       "    </tr>\n",
       "    <tr>\n",
       "      <th>16</th>\n",
       "      <td>BA01T018SE001T018</td>\n",
       "      <td>BA02T002SE032T002</td>\n",
       "      <td>2019-04-06</td>\n",
       "      <td>25</td>\n",
       "      <td>63.60</td>\n",
       "      <td>42.37795</td>\n",
       "      <td>BA S/E NUEVA PICHIRROPULLI 220KV B1</td>\n",
       "      <td>BA01T018SE001T018</td>\n",
       "      <td>BA S/E NUEVA PICHIRROPULLI 220KV B1</td>\n",
       "      <td>60.620648</td>\n",
       "    </tr>\n",
       "    <tr>\n",
       "      <th>20</th>\n",
       "      <td>BA02T005SE055T005</td>\n",
       "      <td>BA02T002SE032T002</td>\n",
       "      <td>2019-04-06</td>\n",
       "      <td>25</td>\n",
       "      <td>62.78</td>\n",
       "      <td>41.83157</td>\n",
       "      <td>BA S/E SAN FRANCISCO DE MOSTAZAL 66KV T1</td>\n",
       "      <td>BA02T005SE055T005</td>\n",
       "      <td>BA S/E SAN FRANCISCO DE MOSTAZAL 66KV T1</td>\n",
       "      <td>59.177969</td>\n",
       "    </tr>\n",
       "    <tr>\n",
       "      <th>24</th>\n",
       "      <td>BA01T002SE029T002</td>\n",
       "      <td>BA02T002SE032T002</td>\n",
       "      <td>2019-04-06</td>\n",
       "      <td>25</td>\n",
       "      <td>58.55</td>\n",
       "      <td>39.01304</td>\n",
       "      <td>BA S/E CENTRAL PEHUENCHE 220KV B1</td>\n",
       "      <td>BA01T002SE029T002</td>\n",
       "      <td>BA S/E CENTRAL PEHUENCHE 220KV B1</td>\n",
       "      <td>54.566605</td>\n",
       "    </tr>\n",
       "    <tr>\n",
       "      <th>28</th>\n",
       "      <td>BA01R002SE041R002</td>\n",
       "      <td>BA02T002SE032T002</td>\n",
       "      <td>2019-04-06</td>\n",
       "      <td>25</td>\n",
       "      <td>60.39</td>\n",
       "      <td>40.23906</td>\n",
       "      <td>BA S/E SAN CRISTOBAL 110KV B1</td>\n",
       "      <td>BA01R002SE041R002</td>\n",
       "      <td>BA S/E SAN CRISTOBAL 110KV B1</td>\n",
       "      <td>56.086260</td>\n",
       "    </tr>\n",
       "  </tbody>\n",
       "</table>\n",
       "</div>"
      ],
      "text/plain": [
       "   barra_mnemotecnico barra_referencia_mnemotecnico       fecha  hora  \\\n",
       "13  BA01G021SE018G021             BA02T002SE032T002  2019-04-06    25   \n",
       "16  BA01T018SE001T018             BA02T002SE032T002  2019-04-06    25   \n",
       "20  BA02T005SE055T005             BA02T002SE032T002  2019-04-06    25   \n",
       "24  BA01T002SE029T002             BA02T002SE032T002  2019-04-06    25   \n",
       "28  BA01R002SE041R002             BA02T002SE032T002  2019-04-06    25   \n",
       "\n",
       "    cmg_real  costo_en_pesos                                    nombre  \\\n",
       "13     58.02        38.65989             BA S/E CENTRAL QUINTERO 220KV   \n",
       "16     63.60        42.37795       BA S/E NUEVA PICHIRROPULLI 220KV B1   \n",
       "20     62.78        41.83157  BA S/E SAN FRANCISCO DE MOSTAZAL 66KV T1   \n",
       "24     58.55        39.01304         BA S/E CENTRAL PEHUENCHE 220KV B1   \n",
       "28     60.39        40.23906             BA S/E SAN CRISTOBAL 110KV B1   \n",
       "\n",
       "   mnemotecnico_barra                              nombre_barra   cmg_prog  \n",
       "13  BA01G021SE018G021             BA S/E CENTRAL QUINTERO 220KV  54.292145  \n",
       "16  BA01T018SE001T018       BA S/E NUEVA PICHIRROPULLI 220KV B1  60.620648  \n",
       "20  BA02T005SE055T005  BA S/E SAN FRANCISCO DE MOSTAZAL 66KV T1  59.177969  \n",
       "24  BA01T002SE029T002         BA S/E CENTRAL PEHUENCHE 220KV B1  54.566605  \n",
       "28  BA01R002SE041R002             BA S/E SAN CRISTOBAL 110KV B1  56.086260  "
      ]
     },
     "execution_count": 209,
     "metadata": {},
     "output_type": "execute_result"
    }
   ],
   "source": [
    "#Voy a eliminar observaciones donde la columna cmg_prog sea igual a NaN\n",
    "costo_marginal.dropna(how='any', subset=['cmg_prog'],inplace=True)\n",
    "costo_marginal.head()"
   ]
  },
  {
   "cell_type": "code",
   "execution_count": 210,
   "metadata": {},
   "outputs": [
    {
     "data": {
      "text/plain": [
       "(913388, 10)"
      ]
     },
     "execution_count": 210,
     "metadata": {},
     "output_type": "execute_result"
    }
   ],
   "source": [
    "costo_marginal.shape #dim of the data frame without NAN in cmg_prog"
   ]
  },
  {
   "cell_type": "code",
   "execution_count": 217,
   "metadata": {},
   "outputs": [],
   "source": [
    "#voy a limpiar el data frame, eliminado columnas que no son necesario y eliminando rows donde la hora = 25 ya que no me hace sentido\n",
    "costo_marginal_clean =  costo_marginal.drop(columns=['barra_referencia_mnemotecnico','costo_en_pesos','mnemotecnico_barra','nombre_barra','nombre'])"
   ]
  },
  {
   "cell_type": "code",
   "execution_count": 218,
   "metadata": {},
   "outputs": [],
   "source": [
    "costo_marginal_clean = costo_marginal_clean[costo_marginal_clean.hora <=24]"
   ]
  },
  {
   "cell_type": "code",
   "execution_count": 224,
   "metadata": {},
   "outputs": [],
   "source": [
    "#Voy agruopar barras duplicadas en fehca y hora\n",
    "costo_marginal_clean = costo_marginal_clean.groupby(['barra_mnemotecnico','fecha','hora']).mean()"
   ]
  },
  {
   "cell_type": "markdown",
   "metadata": {},
   "source": [
    "- desviación: la diferencia entre el costo real y el costo programado"
   ]
  },
  {
   "cell_type": "code",
   "execution_count": 225,
   "metadata": {},
   "outputs": [],
   "source": [
    "costo_marginal_clean['desviacion'] = costo_marginal_clean['cmg_real'] - costo_marginal_clean['cmg_prog']"
   ]
  },
  {
   "cell_type": "markdown",
   "metadata": {},
   "source": [
    "- desviación_pct: la misma desviación, pero en porcentaje"
   ]
  },
  {
   "cell_type": "code",
   "execution_count": 227,
   "metadata": {},
   "outputs": [],
   "source": [
    "costo_marginal_clean['desviacion_pct'] = ((costo_marginal_clean['cmg_real'] - costo_marginal_clean['cmg_prog'])/costo_marginal_clean['cmg_prog'])*100"
   ]
  },
  {
   "cell_type": "markdown",
   "metadata": {},
   "source": [
    "- desviacion_cat: una variable categórica que vale 1 si la desviación_pct absoluta es mayor a 15% (esto es, si es menor a -15% o mayor a 15%) "
   ]
  },
  {
   "cell_type": "code",
   "execution_count": 231,
   "metadata": {},
   "outputs": [],
   "source": [
    "costo_marginal_clean['desviacion_cat']= np.where(abs(costo_marginal_clean.desviacion_pct)  > 15,1,0)"
   ]
  },
  {
   "cell_type": "code",
   "execution_count": 234,
   "metadata": {},
   "outputs": [
    {
     "data": {
      "text/plain": [
       "count    900720.000000\n",
       "mean          0.258450\n",
       "std           0.437783\n",
       "min           0.000000\n",
       "25%           0.000000\n",
       "50%           0.000000\n",
       "75%           1.000000\n",
       "max           1.000000\n",
       "Name: desviacion_cat, dtype: float64"
      ]
     },
     "execution_count": 234,
     "metadata": {},
     "output_type": "execute_result"
    }
   ],
   "source": [
    "costo_marginal_clean.desviacion_cat.describe()"
   ]
  },
  {
   "cell_type": "markdown",
   "metadata": {},
   "source": [
    "Podemos apreciar que la cantidad de desvios es de aprozimadamente un 26% de la data, lo que implica que los label no estan balanceads, y es mas probable no ver un desvio"
   ]
  },
  {
   "cell_type": "code",
   "execution_count": 235,
   "metadata": {},
   "outputs": [
    {
     "data": {
      "text/plain": [
       "<matplotlib.axes._subplots.AxesSubplot at 0x2518b9161c8>"
      ]
     },
     "execution_count": 235,
     "metadata": {},
     "output_type": "execute_result"
    },
    {
     "data": {
      "image/png": "[encoded data removed]",
      "text/plain": [
       "<Figure size 432x288 with 1 Axes>"
      ]
     },
     "metadata": {
      "needs_background": "light"
     },
     "output_type": "display_data"
    }
   ],
   "source": [
    "costo_marginal_clean.groupby(['hora']).mean()['desviacion_cat'].plot()"
   ]
  },
  {
   "cell_type": "code",
   "execution_count": 236,
   "metadata": {},
   "outputs": [
    {
     "data": {
      "text/plain": [
       "<matplotlib.axes._subplots.AxesSubplot at 0x2518c482688>"
      ]
     },
     "execution_count": 236,
     "metadata": {},
     "output_type": "execute_result"
    },
    {
     "data": {
      "image/png": "[encoded data removed]",
      "text/plain": [
       "<Figure size 432x288 with 1 Axes>"
      ]
     },
     "metadata": {
      "needs_background": "light"
     },
     "output_type": "display_data"
    }
   ],
   "source": [
    "costo_marginal_clean.groupby(['fecha']).mean()['desviacion_cat'].plot()"
   ]
  },
  {
   "cell_type": "markdown",
   "metadata": {},
   "source": [
    "Agregando los desvios por horas en el primer grafico y dias en el segundo se puede apreciar que los desvios tiene gran variabilidad dependiendo la hora del dia de la observacion y el dia. Hay horas donde el total de desvios supera el 40%  y en otras es aproximamente un 15%, mientras que hay dias donde supera el 60% y otros dias donde es menos del 5% de las obersvaciones"
   ]
  },
  {
   "cell_type": "markdown",
   "metadata": {},
   "source": [
    "##### __3. Visualización de datos__"
   ]
  },
  {
   "cell_type": "markdown",
   "metadata": {},
   "source": [
    "Crea la siguiente función: def time_plot_costo_barra(codigo_barra, fecha_inicial, fecha_final):\n",
    "\n",
    "que tome como input el código de una barra y haga un plot en el tiempo del costo marginal real y del costo marginal programado. El eje x debe ser el tiempo. fecha_inicial y fecha_final_ dan los límites de este plot. Úsa esta función para plotear algunas barras."
   ]
  },
  {
   "cell_type": "code",
   "execution_count": 271,
   "metadata": {},
   "outputs": [],
   "source": [
    "#Creo que la funcion es mal planteada ya que tambien se deberia pasar el dataframe como variable, pero voy a escribirla segun como se pide.\n",
    "\n",
    "def time_plot_costo_barra(codigo_barra, fecha_inicial, fecha_final):\n",
    "    \"\"\"\n",
    "    Toma tres strings codigo_barra, fecha_inicial, y fecha_final.\n",
    "    Y usando el dataframe definido como costo margianl devuelve un grafico de lineas entre las fechas señalas para\n",
    "    el cmg real y cmg programado\n",
    "    \"\"\"\n",
    "    df_codigo_barra = costo_marginal_clean.loc[codigo_barra]\n",
    "    df_fechas = df_codigo_barra.loc[fecha_inicial:fecha_final]\n",
    "    return df_fechas.plot(y=['cmg_real','cmg_prog'])\n",
    "    "
   ]
  },
  {
   "cell_type": "code",
   "execution_count": 272,
   "metadata": {},
   "outputs": [
    {
     "data": {
      "text/plain": [
       "<matplotlib.axes._subplots.AxesSubplot at 0x2518dc40208>"
      ]
     },
     "execution_count": 272,
     "metadata": {},
     "output_type": "execute_result"
    },
    {
     "data": {
      "image/png": "[encoded data removed]",
      "text/plain": [
       "<Figure size 432x288 with 1 Axes>"
      ]
     },
     "metadata": {
      "needs_background": "light"
     },
     "output_type": "display_data"
    }
   ],
   "source": [
    "time_plot_costo_barra('BA01G021SE018G021','2019-01-01','2019-01-25' )"
   ]
  },
  {
   "cell_type": "code",
   "execution_count": 275,
   "metadata": {},
   "outputs": [
    {
     "data": {
      "text/plain": [
       "<matplotlib.axes._subplots.AxesSubplot at 0x2518e46bac8>"
      ]
     },
     "execution_count": 275,
     "metadata": {},
     "output_type": "execute_result"
    },
    {
     "data": {
      "image/png": "[encoded data removed]",
      "text/plain": [
       "<Figure size 432x288 with 1 Axes>"
      ]
     },
     "metadata": {
      "needs_background": "light"
     },
     "output_type": "display_data"
    }
   ],
   "source": [
    "time_plot_costo_barra('BA28L134SE280T005','2019-01-01','2019-01-25' )"
   ]
  },
  {
   "cell_type": "code",
   "execution_count": 276,
   "metadata": {},
   "outputs": [
    {
     "data": {
      "text/plain": [
       "<matplotlib.axes._subplots.AxesSubplot at 0x2518e532288>"
      ]
     },
     "execution_count": 276,
     "metadata": {},
     "output_type": "execute_result"
    },
    {
     "data": {
      "image/png": "[encoded data removed]",
      "text/plain": [
       "<Figure size 432x288 with 1 Axes>"
      ]
     },
     "metadata": {
      "needs_background": "light"
     },
     "output_type": "display_data"
    }
   ],
   "source": [
    "time_plot_costo_barra('BA01T002SE014T002','2019-01-01','2019-01-25' )"
   ]
  },
  {
   "cell_type": "markdown",
   "metadata": {},
   "source": [
    "Qué puedes concluir de estos plots? <br>\n",
    "Se puede apreciar de los tres graficos que plote, que cada bara tiene sus propio comportamiento tanto en cmg_real y cmg_promedio, y no se puede idetificar una tendencia clara."
   ]
  },
  {
   "cell_type": "markdown",
   "metadata": {},
   "source": [
    "Además, identifica la barra que tiene cmg_real= 0 durante todos los días y elimínala de tu dataset"
   ]
  },
  {
   "cell_type": "code",
   "execution_count": 302,
   "metadata": {},
   "outputs": [],
   "source": [
    "df_aux = costo_marginal_clean.reset_index()\n",
    "df_aux = pregunta[['barra_mnemotecnico','cmg_real']]\n",
    "df_aux = df_aux.groupby('barra_mnemotecnico').sum()\n",
    "df_aux = df_aux[df_aux.cmg_real==0]"
   ]
  },
  {
   "cell_type": "code",
   "execution_count": 303,
   "metadata": {},
   "outputs": [
    {
     "data": {
      "text/html": [
       "<div>\n",
       "<style scoped>\n",
       "    .dataframe tbody tr th:only-of-type {\n",
       "        vertical-align: middle;\n",
       "    }\n",
       "\n",
       "    .dataframe tbody tr th {\n",
       "        vertical-align: top;\n",
       "    }\n",
       "\n",
       "    .dataframe thead th {\n",
       "        text-align: right;\n",
       "    }\n",
       "</style>\n",
       "<table border=\"1\" class=\"dataframe\">\n",
       "  <thead>\n",
       "    <tr style=\"text-align: right;\">\n",
       "      <th></th>\n",
       "      <th>cmg_real</th>\n",
       "    </tr>\n",
       "    <tr>\n",
       "      <th>barra_mnemotecnico</th>\n",
       "      <th></th>\n",
       "    </tr>\n",
       "  </thead>\n",
       "  <tbody>\n",
       "    <tr>\n",
       "      <th>BA01G049SE001G049</th>\n",
       "      <td>0.0</td>\n",
       "    </tr>\n",
       "  </tbody>\n",
       "</table>\n",
       "</div>"
      ],
      "text/plain": [
       "                    cmg_real\n",
       "barra_mnemotecnico          \n",
       "BA01G049SE001G049        0.0"
      ]
     },
     "execution_count": 303,
     "metadata": {},
     "output_type": "execute_result"
    }
   ],
   "source": [
    "###la barra con cmg_real cero es BA01G049SE001G049 \t\n",
    "df_aux"
   ]
  },
  {
   "cell_type": "code",
   "execution_count": 305,
   "metadata": {},
   "outputs": [],
   "source": [
    "costo_marginal_clean.drop('BA01G049SE001G049',inplace=True)"
   ]
  },
  {
   "cell_type": "markdown",
   "metadata": {},
   "source": [
    "##### __4. Base para los modelos__\n",
    "Carga la base base_para_predicción.csv. Esta será la base principal para las siguientes preguntas."
   ]
  },
  {
   "cell_type": "code",
   "execution_count": 3,
   "metadata": {},
   "outputs": [],
   "source": [
    "base_predic = pd.read_csv('base_para_prediccion.csv')"
   ]
  },
  {
   "cell_type": "code",
   "execution_count": 4,
   "metadata": {},
   "outputs": [
    {
     "data": {
      "text/html": [
       "<div>\n",
       "<style scoped>\n",
       "    .dataframe tbody tr th:only-of-type {\n",
       "        vertical-align: middle;\n",
       "    }\n",
       "\n",
       "    .dataframe tbody tr th {\n",
       "        vertical-align: top;\n",
       "    }\n",
       "\n",
       "    .dataframe thead th {\n",
       "        text-align: right;\n",
       "    }\n",
       "</style>\n",
       "<table border=\"1\" class=\"dataframe\">\n",
       "  <thead>\n",
       "    <tr style=\"text-align: right;\">\n",
       "      <th></th>\n",
       "      <th>nemotecnico_se</th>\n",
       "      <th>fecha</th>\n",
       "      <th>hora</th>\n",
       "      <th>gen_eolica_total_mwh</th>\n",
       "      <th>gen_geotermica_total_mwh</th>\n",
       "      <th>gen_hidraulica_total_mwh</th>\n",
       "      <th>gen_solar_total_mwh</th>\n",
       "      <th>gen_termica_total_mwh</th>\n",
       "      <th>cmg_real</th>\n",
       "      <th>cmg_prog</th>\n",
       "      <th>cmg_desv</th>\n",
       "      <th>cmg_desv_pct</th>\n",
       "      <th>n_barras</th>\n",
       "      <th>demanda_mwh</th>\n",
       "      <th>cap_inst_mw</th>\n",
       "    </tr>\n",
       "  </thead>\n",
       "  <tbody>\n",
       "    <tr>\n",
       "      <th>0</th>\n",
       "      <td>SE031G216</td>\n",
       "      <td>2019-01-04 00:00:00 UTC</td>\n",
       "      <td>1</td>\n",
       "      <td>NaN</td>\n",
       "      <td>NaN</td>\n",
       "      <td>NaN</td>\n",
       "      <td>NaN</td>\n",
       "      <td>0.0</td>\n",
       "      <td>56.2</td>\n",
       "      <td>55.627852</td>\n",
       "      <td>0.57</td>\n",
       "      <td>1.02</td>\n",
       "      <td>2</td>\n",
       "      <td>1210767</td>\n",
       "      <td>13.20785</td>\n",
       "    </tr>\n",
       "    <tr>\n",
       "      <th>1</th>\n",
       "      <td>SE031G216</td>\n",
       "      <td>2019-01-04 00:00:00 UTC</td>\n",
       "      <td>2</td>\n",
       "      <td>NaN</td>\n",
       "      <td>NaN</td>\n",
       "      <td>NaN</td>\n",
       "      <td>NaN</td>\n",
       "      <td>0.0</td>\n",
       "      <td>56.2</td>\n",
       "      <td>55.376645</td>\n",
       "      <td>0.82</td>\n",
       "      <td>1.48</td>\n",
       "      <td>2</td>\n",
       "      <td>113232</td>\n",
       "      <td>13.20785</td>\n",
       "    </tr>\n",
       "    <tr>\n",
       "      <th>2</th>\n",
       "      <td>SE031G216</td>\n",
       "      <td>2019-01-04 00:00:00 UTC</td>\n",
       "      <td>3</td>\n",
       "      <td>NaN</td>\n",
       "      <td>NaN</td>\n",
       "      <td>NaN</td>\n",
       "      <td>NaN</td>\n",
       "      <td>0.0</td>\n",
       "      <td>56.2</td>\n",
       "      <td>59.531891</td>\n",
       "      <td>-3.33</td>\n",
       "      <td>-5.59</td>\n",
       "      <td>2</td>\n",
       "      <td>1089415</td>\n",
       "      <td>13.20785</td>\n",
       "    </tr>\n",
       "    <tr>\n",
       "      <th>3</th>\n",
       "      <td>SE031G216</td>\n",
       "      <td>2019-01-04 00:00:00 UTC</td>\n",
       "      <td>4</td>\n",
       "      <td>NaN</td>\n",
       "      <td>NaN</td>\n",
       "      <td>NaN</td>\n",
       "      <td>NaN</td>\n",
       "      <td>0.0</td>\n",
       "      <td>56.2</td>\n",
       "      <td>174.378923</td>\n",
       "      <td>-118.18</td>\n",
       "      <td>-67.77</td>\n",
       "      <td>2</td>\n",
       "      <td>1096867</td>\n",
       "      <td>13.20785</td>\n",
       "    </tr>\n",
       "    <tr>\n",
       "      <th>4</th>\n",
       "      <td>SE031G216</td>\n",
       "      <td>2019-01-04 00:00:00 UTC</td>\n",
       "      <td>5</td>\n",
       "      <td>NaN</td>\n",
       "      <td>NaN</td>\n",
       "      <td>NaN</td>\n",
       "      <td>NaN</td>\n",
       "      <td>0.0</td>\n",
       "      <td>56.2</td>\n",
       "      <td>172.820310</td>\n",
       "      <td>-116.62</td>\n",
       "      <td>-67.48</td>\n",
       "      <td>2</td>\n",
       "      <td>1071851</td>\n",
       "      <td>13.20785</td>\n",
       "    </tr>\n",
       "  </tbody>\n",
       "</table>\n",
       "</div>"
      ],
      "text/plain": [
       "  nemotecnico_se                    fecha  hora  gen_eolica_total_mwh  \\\n",
       "0      SE031G216  2019-01-04 00:00:00 UTC     1                   NaN   \n",
       "1      SE031G216  2019-01-04 00:00:00 UTC     2                   NaN   \n",
       "2      SE031G216  2019-01-04 00:00:00 UTC     3                   NaN   \n",
       "3      SE031G216  2019-01-04 00:00:00 UTC     4                   NaN   \n",
       "4      SE031G216  2019-01-04 00:00:00 UTC     5                   NaN   \n",
       "\n",
       "   gen_geotermica_total_mwh  gen_hidraulica_total_mwh  gen_solar_total_mwh  \\\n",
       "0                       NaN                       NaN                  NaN   \n",
       "1                       NaN                       NaN                  NaN   \n",
       "2                       NaN                       NaN                  NaN   \n",
       "3                       NaN                       NaN                  NaN   \n",
       "4                       NaN                       NaN                  NaN   \n",
       "\n",
       "   gen_termica_total_mwh  cmg_real    cmg_prog  cmg_desv  cmg_desv_pct  \\\n",
       "0                    0.0      56.2   55.627852      0.57          1.02   \n",
       "1                    0.0      56.2   55.376645      0.82          1.48   \n",
       "2                    0.0      56.2   59.531891     -3.33         -5.59   \n",
       "3                    0.0      56.2  174.378923   -118.18        -67.77   \n",
       "4                    0.0      56.2  172.820310   -116.62        -67.48   \n",
       "\n",
       "   n_barras  demanda_mwh  cap_inst_mw  \n",
       "0         2      1210767     13.20785  \n",
       "1         2       113232     13.20785  \n",
       "2         2      1089415     13.20785  \n",
       "3         2      1096867     13.20785  \n",
       "4         2      1071851     13.20785  "
      ]
     },
     "execution_count": 4,
     "metadata": {},
     "output_type": "execute_result"
    }
   ],
   "source": [
    "base_predic.head()"
   ]
  },
  {
   "cell_type": "code",
   "execution_count": 5,
   "metadata": {},
   "outputs": [
    {
     "data": {
      "text/plain": [
       "(112779, 15)"
      ]
     },
     "execution_count": 5,
     "metadata": {},
     "output_type": "execute_result"
    }
   ],
   "source": [
    "base_predic.shape"
   ]
  },
  {
   "cell_type": "markdown",
   "metadata": {},
   "source": [
    "- En rasgos generales, ¿Qué puedes decir de los datos? (dimensiones, tipo de datos, variables categóricas, variables numéricas, fechas)."
   ]
  },
  {
   "cell_type": "code",
   "execution_count": 6,
   "metadata": {},
   "outputs": [
    {
     "data": {
      "text/plain": [
       "nemotecnico_se               object\n",
       "fecha                        object\n",
       "hora                          int64\n",
       "gen_eolica_total_mwh        float64\n",
       "gen_geotermica_total_mwh    float64\n",
       "gen_hidraulica_total_mwh    float64\n",
       "gen_solar_total_mwh         float64\n",
       "gen_termica_total_mwh       float64\n",
       "cmg_real                    float64\n",
       "cmg_prog                    float64\n",
       "cmg_desv                    float64\n",
       "cmg_desv_pct                float64\n",
       "n_barras                      int64\n",
       "demanda_mwh                   int64\n",
       "cap_inst_mw                 float64\n",
       "dtype: object"
      ]
     },
     "execution_count": 6,
     "metadata": {},
     "output_type": "execute_result"
    }
   ],
   "source": [
    "base_predic.dtypes"
   ]
  },
  {
   "cell_type": "code",
   "execution_count": 8,
   "metadata": {},
   "outputs": [
    {
     "data": {
      "text/html": [
       "<div>\n",
       "<style scoped>\n",
       "    .dataframe tbody tr th:only-of-type {\n",
       "        vertical-align: middle;\n",
       "    }\n",
       "\n",
       "    .dataframe tbody tr th {\n",
       "        vertical-align: top;\n",
       "    }\n",
       "\n",
       "    .dataframe thead th {\n",
       "        text-align: right;\n",
       "    }\n",
       "</style>\n",
       "<table border=\"1\" class=\"dataframe\">\n",
       "  <thead>\n",
       "    <tr style=\"text-align: right;\">\n",
       "      <th></th>\n",
       "      <th>hora</th>\n",
       "      <th>gen_eolica_total_mwh</th>\n",
       "      <th>gen_geotermica_total_mwh</th>\n",
       "      <th>gen_hidraulica_total_mwh</th>\n",
       "      <th>gen_solar_total_mwh</th>\n",
       "      <th>gen_termica_total_mwh</th>\n",
       "      <th>cmg_real</th>\n",
       "      <th>cmg_prog</th>\n",
       "      <th>cmg_desv</th>\n",
       "      <th>cmg_desv_pct</th>\n",
       "      <th>n_barras</th>\n",
       "      <th>demanda_mwh</th>\n",
       "      <th>cap_inst_mw</th>\n",
       "    </tr>\n",
       "  </thead>\n",
       "  <tbody>\n",
       "    <tr>\n",
       "      <th>count</th>\n",
       "      <td>112779.000000</td>\n",
       "      <td>0.0</td>\n",
       "      <td>0.0</td>\n",
       "      <td>34184.000000</td>\n",
       "      <td>41818.000000</td>\n",
       "      <td>61863.000000</td>\n",
       "      <td>112779.000000</td>\n",
       "      <td>112779.000000</td>\n",
       "      <td>112779.000000</td>\n",
       "      <td>112779.00</td>\n",
       "      <td>112779.000000</td>\n",
       "      <td>1.127790e+05</td>\n",
       "      <td>112779.000000</td>\n",
       "    </tr>\n",
       "    <tr>\n",
       "      <th>mean</th>\n",
       "      <td>12.502993</td>\n",
       "      <td>NaN</td>\n",
       "      <td>NaN</td>\n",
       "      <td>38.120053</td>\n",
       "      <td>3.764987</td>\n",
       "      <td>40.583146</td>\n",
       "      <td>61.170058</td>\n",
       "      <td>62.215400</td>\n",
       "      <td>-1.045338</td>\n",
       "      <td>inf</td>\n",
       "      <td>2.331844</td>\n",
       "      <td>6.357056e+07</td>\n",
       "      <td>128.719565</td>\n",
       "    </tr>\n",
       "    <tr>\n",
       "      <th>std</th>\n",
       "      <td>6.924090</td>\n",
       "      <td>NaN</td>\n",
       "      <td>NaN</td>\n",
       "      <td>69.838109</td>\n",
       "      <td>12.904388</td>\n",
       "      <td>101.083396</td>\n",
       "      <td>25.414147</td>\n",
       "      <td>25.307759</td>\n",
       "      <td>24.711575</td>\n",
       "      <td>NaN</td>\n",
       "      <td>1.304096</td>\n",
       "      <td>3.948683e+08</td>\n",
       "      <td>167.948649</td>\n",
       "    </tr>\n",
       "    <tr>\n",
       "      <th>min</th>\n",
       "      <td>1.000000</td>\n",
       "      <td>NaN</td>\n",
       "      <td>NaN</td>\n",
       "      <td>0.000000</td>\n",
       "      <td>0.000000</td>\n",
       "      <td>0.000000</td>\n",
       "      <td>0.000000</td>\n",
       "      <td>-1.713131</td>\n",
       "      <td>-562.470000</td>\n",
       "      <td>-3403.97</td>\n",
       "      <td>1.000000</td>\n",
       "      <td>-9.821095e+09</td>\n",
       "      <td>2.989800</td>\n",
       "    </tr>\n",
       "    <tr>\n",
       "      <th>25%</th>\n",
       "      <td>7.000000</td>\n",
       "      <td>NaN</td>\n",
       "      <td>NaN</td>\n",
       "      <td>0.849787</td>\n",
       "      <td>0.000000</td>\n",
       "      <td>0.000000</td>\n",
       "      <td>49.130000</td>\n",
       "      <td>49.906745</td>\n",
       "      <td>-3.790000</td>\n",
       "      <td>-7.07</td>\n",
       "      <td>1.000000</td>\n",
       "      <td>7.464800e+05</td>\n",
       "      <td>18.420000</td>\n",
       "    </tr>\n",
       "    <tr>\n",
       "      <th>50%</th>\n",
       "      <td>13.000000</td>\n",
       "      <td>NaN</td>\n",
       "      <td>NaN</td>\n",
       "      <td>9.600000</td>\n",
       "      <td>0.000000</td>\n",
       "      <td>0.000000</td>\n",
       "      <td>54.610000</td>\n",
       "      <td>55.420601</td>\n",
       "      <td>-0.310000</td>\n",
       "      <td>-0.58</td>\n",
       "      <td>2.000000</td>\n",
       "      <td>4.507282e+06</td>\n",
       "      <td>51.850000</td>\n",
       "    </tr>\n",
       "    <tr>\n",
       "      <th>75%</th>\n",
       "      <td>19.000000</td>\n",
       "      <td>NaN</td>\n",
       "      <td>NaN</td>\n",
       "      <td>40.000000</td>\n",
       "      <td>1.571022</td>\n",
       "      <td>15.960000</td>\n",
       "      <td>63.500000</td>\n",
       "      <td>64.701951</td>\n",
       "      <td>1.670000</td>\n",
       "      <td>2.92</td>\n",
       "      <td>3.000000</td>\n",
       "      <td>1.332345e+07</td>\n",
       "      <td>184.685500</td>\n",
       "    </tr>\n",
       "    <tr>\n",
       "      <th>max</th>\n",
       "      <td>25.000000</td>\n",
       "      <td>NaN</td>\n",
       "      <td>NaN</td>\n",
       "      <td>472.000000</td>\n",
       "      <td>86.050000</td>\n",
       "      <td>570.600800</td>\n",
       "      <td>240.360000</td>\n",
       "      <td>610.600000</td>\n",
       "      <td>175.020000</td>\n",
       "      <td>inf</td>\n",
       "      <td>6.000000</td>\n",
       "      <td>1.004240e+10</td>\n",
       "      <td>597.782800</td>\n",
       "    </tr>\n",
       "  </tbody>\n",
       "</table>\n",
       "</div>"
      ],
      "text/plain": [
       "                hora  gen_eolica_total_mwh  gen_geotermica_total_mwh  \\\n",
       "count  112779.000000                   0.0                       0.0   \n",
       "mean       12.502993                   NaN                       NaN   \n",
       "std         6.924090                   NaN                       NaN   \n",
       "min         1.000000                   NaN                       NaN   \n",
       "25%         7.000000                   NaN                       NaN   \n",
       "50%        13.000000                   NaN                       NaN   \n",
       "75%        19.000000                   NaN                       NaN   \n",
       "max        25.000000                   NaN                       NaN   \n",
       "\n",
       "       gen_hidraulica_total_mwh  gen_solar_total_mwh  gen_termica_total_mwh  \\\n",
       "count              34184.000000         41818.000000           61863.000000   \n",
       "mean                  38.120053             3.764987              40.583146   \n",
       "std                   69.838109            12.904388             101.083396   \n",
       "min                    0.000000             0.000000               0.000000   \n",
       "25%                    0.849787             0.000000               0.000000   \n",
       "50%                    9.600000             0.000000               0.000000   \n",
       "75%                   40.000000             1.571022              15.960000   \n",
       "max                  472.000000            86.050000             570.600800   \n",
       "\n",
       "            cmg_real       cmg_prog       cmg_desv  cmg_desv_pct  \\\n",
       "count  112779.000000  112779.000000  112779.000000     112779.00   \n",
       "mean       61.170058      62.215400      -1.045338           inf   \n",
       "std        25.414147      25.307759      24.711575           NaN   \n",
       "min         0.000000      -1.713131    -562.470000      -3403.97   \n",
       "25%        49.130000      49.906745      -3.790000         -7.07   \n",
       "50%        54.610000      55.420601      -0.310000         -0.58   \n",
       "75%        63.500000      64.701951       1.670000          2.92   \n",
       "max       240.360000     610.600000     175.020000           inf   \n",
       "\n",
       "            n_barras   demanda_mwh    cap_inst_mw  \n",
       "count  112779.000000  1.127790e+05  112779.000000  \n",
       "mean        2.331844  6.357056e+07     128.719565  \n",
       "std         1.304096  3.948683e+08     167.948649  \n",
       "min         1.000000 -9.821095e+09       2.989800  \n",
       "25%         1.000000  7.464800e+05      18.420000  \n",
       "50%         2.000000  4.507282e+06      51.850000  \n",
       "75%         3.000000  1.332345e+07     184.685500  \n",
       "max         6.000000  1.004240e+10     597.782800  "
      ]
     },
     "execution_count": 8,
     "metadata": {},
     "output_type": "execute_result"
    }
   ],
   "source": [
    "base_predic.describe()"
   ]
  },
  {
   "cell_type": "markdown",
   "metadata": {},
   "source": [
    "Puedo decir que la mayoria de los datos son numericos. Hay 112779 observaciones y 15 columns . Hay variables de fecha y hora. Otras variables que se pueden agrupar en distintos tipos de generacion (eolica, geotermica, hidraulica, solar, termica). Hay distintos costos marginales y metricas similares a las que construimos en las preguntas anteriores. Nos dan datos de demanda y oferta por subestacion electrica. Diria que casi todas las variables son numericas, salvo por n_barras que es categorica y fechas y horas."
   ]
  },
  {
   "cell_type": "markdown",
   "metadata": {},
   "source": [
    "- A partir de la variable fecha, crea nuevas variables para el año, mes, semana del año, dia del calendario, dia de la semana y una variable que indique si el dia corresponde a un día de semana o fin de semana. Estas features/variables te servirán para entrenar el modelo."
   ]
  },
  {
   "cell_type": "code",
   "execution_count": 24,
   "metadata": {},
   "outputs": [
    {
     "name": "stderr",
     "output_type": "stream",
     "text": [
      "C:\\Users\\algon\\AppData\\Roaming\\Python\\Python37\\site-packages\\pandas\\core\\arrays\\datetimes.py:1172: UserWarning: Converting to PeriodArray/Index representation will drop timezone information.\n",
      "  \"will drop timezone information.\", UserWarning)\n"
     ]
    }
   ],
   "source": [
    "#Year\n",
    "base_predic['Year'] = pd.to_datetime(base_predic['fecha']).dt.to_period('Y')\n",
    "#Month\n",
    "base_predic['Month'] = pd.to_datetime(base_predic['fecha']).dt.month\n",
    "#Week\n",
    "base_predic['Week'] = pd.to_datetime(base_predic['fecha']).dt.week\n",
    "#Day\n",
    "base_predic['day'] = pd.to_datetime(base_predic['fecha']).dt.day\n",
    "#Day Week\n",
    "base_predic['W_day'] = pd.to_datetime(base_predic['fecha']).dt.dayofweek\n",
    "#Week_day 1 if week day esle 0\n",
    "base_predic['dum_week_day'] = np.where(base_predic['W_day']<=5,1,0)"
   ]
  },
  {
   "cell_type": "markdown",
   "metadata": {},
   "source": [
    "- Implementa una función que para una subestación y una variable, grafique múltiples series de tiempo diarias correspondientes a una lista de fechas. Para esto, la función debe recibir como argumentos: código de una subestación, una variable (serie numérica), y una lista de fechas (año-mes-día). Por ejemplo: para la subestación SE005T002 y la variable gen_solar_total_mwh, la función debe graficar los perfiles diarios de generación solar por hora para las fechas '2019-01-10', '2019-02-10' y '2019-03-10'."
   ]
  },
  {
   "cell_type": "code",
   "execution_count": 43,
   "metadata": {},
   "outputs": [],
   "source": [
    "###Necesito cambiar el formato de la fecha\n",
    "base_predic['fecha'] = pd.to_datetime(base_predic['fecha']).apply(lambda x: str(x).split(' ')[0])"
   ]
  },
  {
   "cell_type": "code",
   "execution_count": 97,
   "metadata": {},
   "outputs": [],
   "source": [
    "def plot_SE_Variable_dates(sub_estacion,variable,fechas):\n",
    "    '''\n",
    "    tomar un string con el codigo de subestacion, otro string con la variable de generacion, y un lista de fechas formato YYYY-DD-MM\n",
    "    retorna un grafico por hora de las lista de fecha señaladas, del dataframe base_predic\n",
    "    '''\n",
    "    aux = {}\n",
    "    for i in fechas:\n",
    "        hora = base_predic[(base_predic['nemotecnico_se']==sub_estacion) & (base_predic['fecha']==i)][['hora',variable]]['hora'].tolist()\n",
    "        var = base_predic[(base_predic['nemotecnico_se']==sub_estacion) & (base_predic['fecha']==i)][['hora',variable]][variable].tolist()\n",
    "        sort_list = [(i,j) for i,j in zip(hora,var)]\n",
    "        sort_list = sorted(sort_list,key=lambda tup:tup[0])\n",
    "        sort_list = [j for i,j in sort_list]\n",
    "        aux[i] = sort_list\n",
    "    hora = [i for i in range(1,25)]\n",
    "    for i,j in aux.items():\n",
    "        x = hora\n",
    "        y = j\n",
    "        plt.plot(hora,y,label=i)\n",
    "    \n",
    "    plt.legend()\n",
    "        "
   ]
  },
  {
   "cell_type": "code",
   "execution_count": 98,
   "metadata": {},
   "outputs": [
    {
     "data": {
      "image/png": "[encoded data removed]",
      "text/plain": [
       "<Figure size 432x288 with 1 Axes>"
      ]
     },
     "metadata": {
      "needs_background": "light"
     },
     "output_type": "display_data"
    }
   ],
   "source": [
    "plot_SE_Variable_dates('SE005T002','gen_solar_total_mwh',['2019-01-10','2019-02-10','2019-03-10'])"
   ]
  },
  {
   "cell_type": "markdown",
   "metadata": {},
   "source": [
    "- Grafica la curva de generación solar, por hora, en la subestación SE005T002 para las fechas del 10, 11, 12, 13 y 14 de enero de 2019. Haz lo mismo para la subestación SE127T005. Que podrías decir, en términos generales, sobre la generación solar y las dos subestaciones mencionadas, basados en estos dos gráficos?"
   ]
  },
  {
   "cell_type": "code",
   "execution_count": 99,
   "metadata": {},
   "outputs": [
    {
     "data": {
      "image/png": "[encoded data removed]",
      "text/plain": [
       "<Figure size 432x288 with 1 Axes>"
      ]
     },
     "metadata": {
      "needs_background": "light"
     },
     "output_type": "display_data"
    }
   ],
   "source": [
    "#Grafico 1\n",
    "plot_SE_Variable_dates('SE005T002','gen_solar_total_mwh',['2019-01-10','2019-01-11','2019-01-12','2019-01-13','2019-01-14'])"
   ]
  },
  {
   "cell_type": "code",
   "execution_count": 100,
   "metadata": {},
   "outputs": [
    {
     "data": {
      "image/png": "[encoded data removed]",
      "text/plain": [
       "<Figure size 432x288 with 1 Axes>"
      ]
     },
     "metadata": {
      "needs_background": "light"
     },
     "output_type": "display_data"
    }
   ],
   "source": [
    "#Grafico 2\n",
    "plot_SE_Variable_dates('SE127T005','gen_solar_total_mwh',['2019-01-10','2019-01-11','2019-01-12','2019-01-13','2019-01-14'])"
   ]
  },
  {
   "cell_type": "markdown",
   "metadata": {},
   "source": [
    "En promedio la generacion electrica solar es ciclica para un dia dado. Esto es esperable ya que la generacion depende del ciclo del sol."
   ]
  },
  {
   "cell_type": "markdown",
   "metadata": {},
   "source": [
    "- Grafica la curva de generación térmica, por hora, en la subestación SE020G213 para los días 14, 15, 16 y 17 de mayo de 2019. Haz lo mismo para la subestación SE106G216. Que podrías decir, en términos generales, sobre la generación térmica en esta subestación con respecto a este gráfico?"
   ]
  },
  {
   "cell_type": "code",
   "execution_count": 101,
   "metadata": {},
   "outputs": [
    {
     "data": {
      "image/png": "[encoded data removed]",
      "text/plain": [
       "<Figure size 432x288 with 1 Axes>"
      ]
     },
     "metadata": {
      "needs_background": "light"
     },
     "output_type": "display_data"
    }
   ],
   "source": [
    "plot_SE_Variable_dates('SE020G213','gen_termica_total_mwh',['2019-05-14','2019-05-15','2019-05-16','2019-05-17'])"
   ]
  },
  {
   "cell_type": "code",
   "execution_count": 102,
   "metadata": {},
   "outputs": [
    {
     "data": {
      "image/png": "[encoded data removed]",
      "text/plain": [
       "<Figure size 432x288 with 1 Axes>"
      ]
     },
     "metadata": {
      "needs_background": "light"
     },
     "output_type": "display_data"
    }
   ],
   "source": [
    "plot_SE_Variable_dates('SE106G216','gen_termica_total_mwh',['2019-05-14','2019-05-15','2019-05-16','2019-05-17'])"
   ]
  },
  {
   "cell_type": "markdown",
   "metadata": {},
   "source": [
    "Puedo concluir que la generacion electrica termo electrica es bastante variable, problamente dependiente del costo marginal del sistema en ese momento"
   ]
  },
  {
   "cell_type": "markdown",
   "metadata": {},
   "source": [
    "##### __5. Predicción de desviaciones del costo marginal: modelo 1__\n",
    "<br>\n",
    "- Definiria el scoping de este problema de la siguente manera. Primero habria que definir un offset que es un hiperametro de este ejercicios, ya que ex ante no sabemos por ejemplo cuanto lags debemos incluir en nuestro ejercicio, para encontrar el mejor modelo. El offset es importante ya que define las moving windows, los lag, estadisitcas acumuladas, y por tanto los train/test splits.\n",
    "<br>\n",
    "- Cada train/test split es evaluado segun una metrica predefinida que dependera de los recursos de nuestro cliente.\n",
    "<br>\n",
    "- Creo que para este ejercicio queremos enfocarnos en la metrica de precision, en aquellas top X SE que tienen mayor probabilidad de desviar.\n",
    "<br>\n",
    "- El top X depende de los recursoso de nuestros cliente, tal vez solo puede intervernir 10 o 20 o 30 SE por ahora.\n",
    "<br>\n",
    "- Hay que estimar varios modelos y algoritmos, por diferentes franjas de tiempo y quedarnos con aquellos que por ejemplo sean mas estable o mas certeros en el ultimo train/test split que tengamos. Eso dependera.\n",
    "- Ha diferencia de obtener hiperarametros mediante un CV, aqui hay que probar distintas especificaciones del algoritmo y ver como se comportan.\n",
    "<br>\n",
    "Dicho lo anterior y considerando que este puede ser un porblema muy complejo, para el resto del ejercicio tomare un submuestra sin optimizar el offset. Queria plantear lo anterior ya que creo que si se deberia abordar el problema"
   ]
  },
  {
   "cell_type": "markdown",
   "metadata": {},
   "source": [
    "- Crea una variable target que sea igual a cero cuando la variable cmg_desv_pct esté en el rango [-15,15], e igual uno para cualquier otro caso. Hint: recuerda que existen valores infinitos."
   ]
  },
  {
   "cell_type": "code",
   "execution_count": 103,
   "metadata": {},
   "outputs": [],
   "source": [
    "base_predic['target']= np.where(abs(base_predic.cmg_desv_pct)  > 15,1,0)"
   ]
  },
  {
   "cell_type": "code",
   "execution_count": 218,
   "metadata": {},
   "outputs": [],
   "source": [
    "#Segun lo explicado en la primera parte de esta pregunta voy a trabajar con una submuestra de la data\n",
    "data = base_predic[(base_predic.fecha>='2019-04-01') & (base_predic.fecha<='2019-06-30')]"
   ]
  },
  {
   "cell_type": "markdown",
   "metadata": {},
   "source": [
    "Ahora crea los siguientes features:\n",
    "\n",
    "    en_total_mwh: suma de las cinco series de generación.\n",
    "    lags y estadísticas acumuladas (por ejemplo: promedio, varianza) de las variables que consideres relevantes.\n"
   ]
  },
  {
   "cell_type": "code",
   "execution_count": 219,
   "metadata": {},
   "outputs": [
    {
     "name": "stderr",
     "output_type": "stream",
     "text": [
      "C:\\Users\\algon\\AppData\\Roaming\\Python\\Python37\\site-packages\\pandas\\core\\frame.py:4034: SettingWithCopyWarning: \n",
      "A value is trying to be set on a copy of a slice from a DataFrame\n",
      "\n",
      "See the caveats in the documentation: http://pandas.pydata.org/pandas-docs/stable/indexing.html#indexing-view-versus-copy\n",
      "  downcast=downcast, **kwargs)\n",
      "C:\\Users\\algon\\Anaconda3\\lib\\site-packages\\ipykernel_launcher.py:2: SettingWithCopyWarning: \n",
      "A value is trying to be set on a copy of a slice from a DataFrame.\n",
      "Try using .loc[row_indexer,col_indexer] = value instead\n",
      "\n",
      "See the caveats in the documentation: http://pandas.pydata.org/pandas-docs/stable/indexing.html#indexing-view-versus-copy\n",
      "  \n"
     ]
    }
   ],
   "source": [
    "data.fillna(0,inplace=True)\n",
    "data['en_total_mwh'] =  data[['gen_eolica_total_mwh','gen_geotermica_total_mwh','gen_hidraulica_total_mwh','gen_solar_total_mwh','gen_termica_total_mwh']].sum(axis=1)"
   ]
  },
  {
   "cell_type": "code",
   "execution_count": 220,
   "metadata": {},
   "outputs": [
    {
     "name": "stderr",
     "output_type": "stream",
     "text": [
      "C:\\Users\\algon\\AppData\\Roaming\\Python\\Python37\\site-packages\\pandas\\core\\frame.py:3940: SettingWithCopyWarning: \n",
      "A value is trying to be set on a copy of a slice from a DataFrame\n",
      "\n",
      "See the caveats in the documentation: http://pandas.pydata.org/pandas-docs/stable/indexing.html#indexing-view-versus-copy\n",
      "  errors=errors)\n"
     ]
    }
   ],
   "source": [
    "#voy a dropear columns que creo no me serviran\n",
    "data.drop(columns=['gen_eolica_total_mwh','gen_geotermica_total_mwh','gen_hidraulica_total_mwh','gen_solar_total_mwh','gen_termica_total_mwh','Year'],inplace=True)"
   ]
  },
  {
   "cell_type": "code",
   "execution_count": 165,
   "metadata": {},
   "outputs": [
    {
     "data": {
      "text/plain": [
       "Index(['nemotecnico_se', 'fecha', 'hora', 'cmg_real', 'cmg_prog', 'cmg_desv',\n",
       "       'cmg_desv_pct', 'n_barras', 'demanda_mwh', 'cap_inst_mw', 'Month',\n",
       "       'Week', 'day', 'W_day', 'dum_week_day', 'target', 'en_total_mwh'],\n",
       "      dtype='object')"
      ]
     },
     "execution_count": 165,
     "metadata": {},
     "output_type": "execute_result"
    }
   ],
   "source": [
    "data.columns"
   ]
  },
  {
   "cell_type": "code",
   "execution_count": 221,
   "metadata": {},
   "outputs": [],
   "source": [
    "#laging algunas variables con tres lags\n",
    "data = data.assign(**{'{} (t-{})'.format(col,t): data[col].shift(t)\n",
    "              for t in range(1,4)\n",
    "               for col in ['target','cmg_desv_pct']\n",
    "              })"
   ]
  },
  {
   "cell_type": "code",
   "execution_count": 222,
   "metadata": {},
   "outputs": [],
   "source": [
    "data.dropna(inplace =True)"
   ]
  },
  {
   "cell_type": "code",
   "execution_count": 213,
   "metadata": {},
   "outputs": [],
   "source": [
    "#moving average para cmg_desv_pct 4 periodos y sum de desvios en 4 periodos\n",
    "data['mean_desvios'] =  data[['cmg_desv_pct (t-1)','cmg_desv_pct (t-2)','cmg_desv_pct (t-3)','cmg_desv_pct']].mean(axis=1)\n",
    "data['acum_desvios'] = data[['target (t-1)','target (t-2)','target (t-3)','target']].sum(axis=1)"
   ]
  },
  {
   "cell_type": "markdown",
   "metadata": {},
   "source": [
    "- Entrena un modelo que prediga si existirá una desviación en la hora siguiente. Adecúa la variable target para hacer esto posible."
   ]
  },
  {
   "cell_type": "code",
   "execution_count": 214,
   "metadata": {},
   "outputs": [],
   "source": [
    "#new target\n",
    "data['new_target'] = data['target'].shift(-1)"
   ]
  },
  {
   "cell_type": "code",
   "execution_count": 215,
   "metadata": {},
   "outputs": [],
   "source": [
    "#drop el hora 24\n",
    "data.dropna(inplace =True)"
   ]
  },
  {
   "cell_type": "code",
   "execution_count": 216,
   "metadata": {},
   "outputs": [],
   "source": [
    "data.drop(columns=['nemotecnico_se','fecha'],inplace=True)"
   ]
  },
  {
   "cell_type": "code",
   "execution_count": 176,
   "metadata": {},
   "outputs": [
    {
     "name": "stderr",
     "output_type": "stream",
     "text": [
      "C:\\Users\\algon\\AppData\\Roaming\\Python\\Python37\\site-packages\\pandas\\core\\frame.py:3940: SettingWithCopyWarning: \n",
      "A value is trying to be set on a copy of a slice from a DataFrame\n",
      "\n",
      "See the caveats in the documentation: http://pandas.pydata.org/pandas-docs/stable/indexing.html#indexing-view-versus-copy\n",
      "  errors=errors)\n",
      "C:\\Users\\algon\\Anaconda3\\lib\\site-packages\\ipykernel_launcher.py:7: SettingWithCopyWarning: \n",
      "A value is trying to be set on a copy of a slice from a DataFrame\n",
      "\n",
      "See the caveats in the documentation: http://pandas.pydata.org/pandas-docs/stable/indexing.html#indexing-view-versus-copy\n",
      "  import sys\n",
      "C:\\Users\\algon\\Anaconda3\\lib\\site-packages\\ipykernel_launcher.py:8: SettingWithCopyWarning: \n",
      "A value is trying to be set on a copy of a slice from a DataFrame\n",
      "\n",
      "See the caveats in the documentation: http://pandas.pydata.org/pandas-docs/stable/indexing.html#indexing-view-versus-copy\n",
      "  \n"
     ]
    }
   ],
   "source": [
    "#voy a entrena un modelo usando toda la informacion hasta el dia 2019-06-30 a la hora 22, la hora 23 sera mi test\n",
    "mask = ((data.fecha=='2019-06-30') & (data.hora==23))\n",
    "train = data[~mask]\n",
    "test = data[mask]\n",
    "train.drop(columns=['nemotecnico_se','fecha'],inplace=True)\n",
    "test.drop(columns=['nemotecnico_se','fecha'],inplace=True)\n",
    "train.dropna(inplace=True)\n",
    "test.dropna(inplace=True)"
   ]
  },
  {
   "cell_type": "code",
   "execution_count": 184,
   "metadata": {},
   "outputs": [],
   "source": [
    "#getting X_train,X_test,Y_train,Y_test\n",
    "train =train[~train.isin([np.nan, np.inf, -np.inf]).any(1)]\n",
    "test =test[~test.isin([np.nan, np.inf, -np.inf]).any(1)]\n",
    "\n",
    "train_X = train.loc[:,train.columns !='new_target'].to_numpy()\n",
    "train_Y = train['new_target'].to_numpy()\n",
    "\n",
    "test_X = test.loc[:,test.columns !='new_target'].to_numpy()\n",
    "test_Y = test['new_target'].to_numpy()"
   ]
  },
  {
   "cell_type": "code",
   "execution_count": 185,
   "metadata": {},
   "outputs": [
    {
     "data": {
      "text/plain": [
       "(57235, 23)"
      ]
     },
     "execution_count": 185,
     "metadata": {},
     "output_type": "execute_result"
    }
   ],
   "source": [
    "train_X.shape"
   ]
  },
  {
   "cell_type": "code",
   "execution_count": 186,
   "metadata": {},
   "outputs": [
    {
     "data": {
      "text/plain": [
       "RandomForestClassifier(bootstrap=True, ccp_alpha=0.0, class_weight=None,\n",
       "                       criterion='gini', max_depth=10, max_features='auto',\n",
       "                       max_leaf_nodes=None, max_samples=None,\n",
       "                       min_impurity_decrease=0.0, min_impurity_split=None,\n",
       "                       min_samples_leaf=1, min_samples_split=2,\n",
       "                       min_weight_fraction_leaf=0.0, n_estimators=1000,\n",
       "                       n_jobs=None, oob_score=False, random_state=None,\n",
       "                       verbose=0, warm_start=False)"
      ]
     },
     "execution_count": 186,
     "metadata": {},
     "output_type": "execute_result"
    }
   ],
   "source": [
    "#voy a usar un random forest con hiperparametros a mi gusto \n",
    "from sklearn.ensemble import RandomForestClassifier\n",
    "rfc = RandomForestClassifier(n_estimators=1000,max_features='auto',criterion='gini',max_depth=10)\n",
    "rfc.fit(train_X,train_Y)"
   ]
  },
  {
   "cell_type": "markdown",
   "metadata": {},
   "source": [
    "- ¿Cómo le va a tu modelo? ¿En qué métricas te basas y por qué?"
   ]
  },
  {
   "cell_type": "code",
   "execution_count": 192,
   "metadata": {},
   "outputs": [],
   "source": [
    "#obtengo la probabilidad de 1\n",
    "Y_prob_predict = rfc.predict_proba(test_X)[:,1]"
   ]
  },
  {
   "cell_type": "code",
   "execution_count": 196,
   "metadata": {},
   "outputs": [],
   "source": [
    "# me voy a basar en la presicion en aquellos 2 SE con mayor probabilidad de fallar. Quiero correctamene identificar estos para\n",
    "# intervenir a tiempo\n",
    "sort_index_mayor_prob = np.argsort(-Y_prob_predict)"
   ]
  },
  {
   "cell_type": "code",
   "execution_count": 200,
   "metadata": {},
   "outputs": [
    {
     "data": {
      "text/plain": [
       "0.0"
      ]
     },
     "execution_count": 200,
     "metadata": {},
     "output_type": "execute_result"
    }
   ],
   "source": [
    "# A mi modelo le va muy mal tiene precision cero, es incapaz de identificar al unico desvio en la muestra\n",
    "test_Y[sort_index_mayor_prob][:2].sum()/2"
   ]
  },
  {
   "cell_type": "code",
   "execution_count": 202,
   "metadata": {},
   "outputs": [
    {
     "data": {
      "text/plain": [
       "0.25"
      ]
     },
     "execution_count": 202,
     "metadata": {},
     "output_type": "execute_result"
    }
   ],
   "source": [
    "#Para poder identificarlo tengo que tomar las cuatros mayores prob y poder lograr una precision de 25%\n",
    "test_Y[sort_index_mayor_prob][:4].sum()/4"
   ]
  },
  {
   "cell_type": "markdown",
   "metadata": {},
   "source": [
    "Mi modelo no es tan malo si considero que prevalence de la data es de 4%"
   ]
  },
  {
   "cell_type": "markdown",
   "metadata": {},
   "source": [
    "- ¿Cuales son las variables más importantes que considera este modelo?"
   ]
  },
  {
   "cell_type": "code",
   "execution_count": 204,
   "metadata": {},
   "outputs": [
    {
     "data": {
      "image/png": "[encoded data removed]",
      "text/plain": [
       "<Figure size 432x288 with 1 Axes>"
      ]
     },
     "metadata": {
      "needs_background": "light"
     },
     "output_type": "display_data"
    }
   ],
   "source": [
    "columns_names = train.loc[:,train.columns !='new_target'].columns\n",
    "features_importance = np.argsort(rfc.feature_importances_)\n",
    "\n",
    "feat =  columns_names[features_importance]\n",
    "y_pos = np.arange(len(feat))\n",
    "impt = rfc.feature_importances_[features_importance]\n",
    "\n",
    "plt.barh(y_pos, impt, align='center', alpha=0.5)\n",
    "plt.yticks(y_pos, feat)\n",
    "plt.xlabel('score')\n",
    "plt.title('Importancia de las variables explicativas')\n",
    "\n",
    "plt.show()"
   ]
  },
  {
   "cell_type": "markdown",
   "metadata": {},
   "source": [
    "La variables mas importantes estan asociadas a existian desvios en las horas inmediamente previas. En partigular target es la variable mas importante la cual es 1 si justo la hora previa existia un desvio."
   ]
  },
  {
   "cell_type": "markdown",
   "metadata": {},
   "source": [
    "##### __6. Predicción de desviaciones del costo marginal: modelo 2__"
   ]
  },
  {
   "cell_type": "markdown",
   "metadata": {},
   "source": [
    "- Ahora imagina que te dicen que, en producción, te enviarán datos actualizados del sistema cada 12 horas. ¿Cuál debiese ser tu target a predecir en ese caso? Explica.\n",
    "<br>\n",
    "Creo que en este caso tendremos que ver si con la informacion del pasado podemos preveer si en la proximas 12 para un SE dado habra almenos 1 desvio. Esto dado a que si no contamos con informacion por hora se hace mas dificil predecir e incierto, ya que para hacer las estimaciones tendriamos que ir acumulando lo errores que vamos cometiendo."
   ]
  },
  {
   "cell_type": "markdown",
   "metadata": {},
   "source": [
    "- Entrena un nuevo modelo con ese target y evalúalo con una métrica que te parezca importante. ¿Cómo se compara con los resultados del modelo 1?"
   ]
  },
  {
   "cell_type": "code",
   "execution_count": 224,
   "metadata": {},
   "outputs": [
    {
     "name": "stderr",
     "output_type": "stream",
     "text": [
      "C:\\Users\\algon\\AppData\\Roaming\\Python\\Python37\\site-packages\\pandas\\core\\frame.py:4034: SettingWithCopyWarning: \n",
      "A value is trying to be set on a copy of a slice from a DataFrame\n",
      "\n",
      "See the caveats in the documentation: http://pandas.pydata.org/pandas-docs/stable/indexing.html#indexing-view-versus-copy\n",
      "  downcast=downcast, **kwargs)\n",
      "C:\\Users\\algon\\Anaconda3\\lib\\site-packages\\ipykernel_launcher.py:3: SettingWithCopyWarning: \n",
      "A value is trying to be set on a copy of a slice from a DataFrame.\n",
      "Try using .loc[row_indexer,col_indexer] = value instead\n",
      "\n",
      "See the caveats in the documentation: http://pandas.pydata.org/pandas-docs/stable/indexing.html#indexing-view-versus-copy\n",
      "  This is separate from the ipykernel package so we can avoid doing imports until\n"
     ]
    }
   ],
   "source": [
    "data_2 = base_predic[(base_predic.fecha>='2019-04-01') & (base_predic.fecha<='2019-06-30')]\n",
    "data_2.fillna(0,inplace=True)\n",
    "data_2['en_total_mwh'] =  data_2[['gen_eolica_total_mwh','gen_geotermica_total_mwh','gen_hidraulica_total_mwh','gen_solar_total_mwh','gen_termica_total_mwh']].sum(axis=1)"
   ]
  },
  {
   "cell_type": "code",
   "execution_count": 226,
   "metadata": {},
   "outputs": [
    {
     "name": "stderr",
     "output_type": "stream",
     "text": [
      "C:\\Users\\algon\\AppData\\Roaming\\Python\\Python37\\site-packages\\pandas\\core\\frame.py:3940: SettingWithCopyWarning: \n",
      "A value is trying to be set on a copy of a slice from a DataFrame\n",
      "\n",
      "See the caveats in the documentation: http://pandas.pydata.org/pandas-docs/stable/indexing.html#indexing-view-versus-copy\n",
      "  errors=errors)\n"
     ]
    }
   ],
   "source": [
    "data_2.drop(columns=['gen_eolica_total_mwh','gen_geotermica_total_mwh','gen_hidraulica_total_mwh','gen_solar_total_mwh','gen_termica_total_mwh','Year'],inplace=True)"
   ]
  },
  {
   "cell_type": "code",
   "execution_count": 228,
   "metadata": {},
   "outputs": [],
   "source": [
    "data_2\n",
    "data_2 = data_2.assign(**{'{} (t+{})'.format(col,t): data[col].shift(-t)\n",
    "              for t in range(1,13)\n",
    "               for col in ['target']\n",
    "              })"
   ]
  },
  {
   "cell_type": "code",
   "execution_count": 230,
   "metadata": {},
   "outputs": [],
   "source": [
    "data_2.dropna(inplace=True)"
   ]
  },
  {
   "cell_type": "code",
   "execution_count": 238,
   "metadata": {},
   "outputs": [],
   "source": [
    "data_2 = data_2.iloc[9:,]"
   ]
  },
  {
   "cell_type": "code",
   "execution_count": 263,
   "metadata": {},
   "outputs": [
    {
     "name": "stderr",
     "output_type": "stream",
     "text": [
      "C:\\Users\\algon\\Anaconda3\\lib\\site-packages\\ipykernel_launcher.py:1: SettingWithCopyWarning: \n",
      "A value is trying to be set on a copy of a slice from a DataFrame.\n",
      "Try using .loc[row_indexer,col_indexer] = value instead\n",
      "\n",
      "See the caveats in the documentation: http://pandas.pydata.org/pandas-docs/stable/indexing.html#indexing-view-versus-copy\n",
      "  \"\"\"Entry point for launching an IPython kernel.\n"
     ]
    }
   ],
   "source": [
    "data_2['new_target'] = data_2[['target (t+1)','target (t+2)','target (t+3)','target (t+4)','target (t+5)','target (t+6)','target (t+7)','target (t+8)','target (t+9)','target (t+10)','target (t+11)','target (t+12)']].sum(axis=1)"
   ]
  },
  {
   "cell_type": "code",
   "execution_count": 266,
   "metadata": {},
   "outputs": [
    {
     "name": "stderr",
     "output_type": "stream",
     "text": [
      "C:\\Users\\algon\\Anaconda3\\lib\\site-packages\\ipykernel_launcher.py:1: SettingWithCopyWarning: \n",
      "A value is trying to be set on a copy of a slice from a DataFrame.\n",
      "Try using .loc[row_indexer,col_indexer] = value instead\n",
      "\n",
      "See the caveats in the documentation: http://pandas.pydata.org/pandas-docs/stable/indexing.html#indexing-view-versus-copy\n",
      "  \"\"\"Entry point for launching an IPython kernel.\n"
     ]
    }
   ],
   "source": [
    "data_2['new_target'] = np.where(data_2.new_target >0,1,0)"
   ]
  },
  {
   "cell_type": "code",
   "execution_count": 268,
   "metadata": {},
   "outputs": [
    {
     "name": "stderr",
     "output_type": "stream",
     "text": [
      "C:\\Users\\algon\\AppData\\Roaming\\Python\\Python37\\site-packages\\pandas\\core\\frame.py:3940: SettingWithCopyWarning: \n",
      "A value is trying to be set on a copy of a slice from a DataFrame\n",
      "\n",
      "See the caveats in the documentation: http://pandas.pydata.org/pandas-docs/stable/indexing.html#indexing-view-versus-copy\n",
      "  errors=errors)\n"
     ]
    }
   ],
   "source": [
    "data_2.drop(columns=['target (t+1)','target (t+2)','target (t+3)','target (t+4)','target (t+5)','target (t+6)','target (t+7)','target (t+8)','target (t+9)','target (t+10)','target (t+11)','target (t+12)'],inplace=True)"
   ]
  },
  {
   "cell_type": "code",
   "execution_count": 271,
   "metadata": {},
   "outputs": [
    {
     "name": "stderr",
     "output_type": "stream",
     "text": [
      "C:\\Users\\algon\\AppData\\Roaming\\Python\\Python37\\site-packages\\pandas\\core\\frame.py:3940: SettingWithCopyWarning: \n",
      "A value is trying to be set on a copy of a slice from a DataFrame\n",
      "\n",
      "See the caveats in the documentation: http://pandas.pydata.org/pandas-docs/stable/indexing.html#indexing-view-versus-copy\n",
      "  errors=errors)\n",
      "C:\\Users\\algon\\Anaconda3\\lib\\site-packages\\ipykernel_launcher.py:6: SettingWithCopyWarning: \n",
      "A value is trying to be set on a copy of a slice from a DataFrame\n",
      "\n",
      "See the caveats in the documentation: http://pandas.pydata.org/pandas-docs/stable/indexing.html#indexing-view-versus-copy\n",
      "  \n",
      "C:\\Users\\algon\\Anaconda3\\lib\\site-packages\\ipykernel_launcher.py:7: SettingWithCopyWarning: \n",
      "A value is trying to be set on a copy of a slice from a DataFrame\n",
      "\n",
      "See the caveats in the documentation: http://pandas.pydata.org/pandas-docs/stable/indexing.html#indexing-view-versus-copy\n",
      "  import sys\n"
     ]
    }
   ],
   "source": [
    "mask = ((data_2.fecha=='2019-06-30') & (data_2.hora>=1))\n",
    "train = data_2[~mask]\n",
    "test = data_2[mask]\n",
    "train.drop(columns=['nemotecnico_se','fecha'],inplace=True)\n",
    "test.drop(columns=['nemotecnico_se','fecha'],inplace=True)\n",
    "train.dropna(inplace=True)\n",
    "test.dropna(inplace=True)\n",
    "train =train[~train.isin([np.nan, np.inf, -np.inf]).any(1)]\n",
    "test =test[~test.isin([np.nan, np.inf, -np.inf]).any(1)]"
   ]
  },
  {
   "cell_type": "code",
   "execution_count": 273,
   "metadata": {},
   "outputs": [],
   "source": [
    "train_X = train.loc[:,train.columns !='new_target'].to_numpy()\n",
    "train_Y = train['new_target'].to_numpy()\n",
    "\n",
    "test_X = test.loc[:,test.columns !='new_target'].to_numpy()\n",
    "test_Y = test['new_target'].to_numpy()"
   ]
  },
  {
   "cell_type": "code",
   "execution_count": 275,
   "metadata": {},
   "outputs": [
    {
     "data": {
      "text/plain": [
       "RandomForestClassifier(bootstrap=True, ccp_alpha=0.0, class_weight=None,\n",
       "                       criterion='gini', max_depth=10, max_features='auto',\n",
       "                       max_leaf_nodes=None, max_samples=None,\n",
       "                       min_impurity_decrease=0.0, min_impurity_split=None,\n",
       "                       min_samples_leaf=1, min_samples_split=2,\n",
       "                       min_weight_fraction_leaf=0.0, n_estimators=1000,\n",
       "                       n_jobs=None, oob_score=False, random_state=None,\n",
       "                       verbose=0, warm_start=False)"
      ]
     },
     "execution_count": 275,
     "metadata": {},
     "output_type": "execute_result"
    }
   ],
   "source": [
    "rfc = RandomForestClassifier(n_estimators=1000,max_features='auto',criterion='gini',max_depth=10)\n",
    "rfc.fit(train_X,train_Y)"
   ]
  },
  {
   "cell_type": "code",
   "execution_count": 276,
   "metadata": {},
   "outputs": [],
   "source": [
    "Y_prob_predict = rfc.predict_proba(test_X)[:,1]"
   ]
  },
  {
   "cell_type": "code",
   "execution_count": 279,
   "metadata": {},
   "outputs": [
    {
     "data": {
      "text/plain": [
       "(564,)"
      ]
     },
     "execution_count": 279,
     "metadata": {},
     "output_type": "execute_result"
    }
   ],
   "source": [
    "Y_prob_predict.shape"
   ]
  },
  {
   "cell_type": "code",
   "execution_count": 284,
   "metadata": {},
   "outputs": [
    {
     "data": {
      "text/plain": [
       "0.3333333333333333"
      ]
     },
     "execution_count": 284,
     "metadata": {},
     "output_type": "execute_result"
    }
   ],
   "source": [
    "test_Y.sum()/len(test_Y)"
   ]
  },
  {
   "cell_type": "code",
   "execution_count": 285,
   "metadata": {},
   "outputs": [
    {
     "data": {
      "text/plain": [
       "0.48"
      ]
     },
     "execution_count": 285,
     "metadata": {},
     "output_type": "execute_result"
    }
   ],
   "source": [
    "#Similar a lo anterior evaluao segun precision. En el top 100 ya que el numero de positivos es sustancialmente mayor que con el anterior\n",
    "sort_index_mayor_prob = np.argsort(-Y_prob_predict)\n",
    "test_Y[sort_index_mayor_prob][:100].sum()/100"
   ]
  },
  {
   "cell_type": "markdown",
   "metadata": {},
   "source": [
    "Logro encotrar el 48% de los 100 SE que es mas probable que tengan un desvio. Lo cual no es tan malo considerando que la prevalence del label positivo es del 33%. Con todo es dificil de comparar con el otro modelo ya que los target son distintos"
   ]
  },
  {
   "cell_type": "markdown",
   "metadata": {},
   "source": [
    "##### __7. Merge con datos de clima: modelo 3__"
   ]
  },
  {
   "cell_type": "code",
   "execution_count": 286,
   "metadata": {},
   "outputs": [],
   "source": [
    "clima = pd.read_csv('datos_clima.csv')"
   ]
  },
  {
   "cell_type": "code",
   "execution_count": 289,
   "metadata": {},
   "outputs": [
    {
     "data": {
      "text/plain": [
       "fecha                 object\n",
       "subestacion           object\n",
       "lat                  float64\n",
       "lon                  float64\n",
       "ALLSKY_SFC_SW_DWN    float64\n",
       "KT                   float64\n",
       "PRECTOT              float64\n",
       "RH2M                 float64\n",
       "T2M                  float64\n",
       "T2MDEW               float64\n",
       "T2M_MAX              float64\n",
       "T2M_MIN              float64\n",
       "TQV                  float64\n",
       "TS                   float64\n",
       "WS10M                float64\n",
       "WS10M_MAX            float64\n",
       "WS10M_MIN            float64\n",
       "WS50M                float64\n",
       "WS50M_MAX            float64\n",
       "WS50M_MIN            float64\n",
       "dtype: object"
      ]
     },
     "execution_count": 289,
     "metadata": {},
     "output_type": "execute_result"
    }
   ],
   "source": [
    "clima.dtypes"
   ]
  },
  {
   "cell_type": "markdown",
   "metadata": {},
   "source": [
    "- ¿Cómo manejas el data leakage en este caso? \n",
    "<br>\n",
    "LA unica forma de evitar data leakega es asegurarnos que estos datos estan en linea con cuando vemos los datos de costos mg, por lo tanto las mediciones se tienen que hacer acordes con las horas de medicion de los costos. Lamentablemente esto no lo podemos saber ya que no viene por hora. Otro problemas que tenemos es que nunca sabremos el clima a futuro por tanto no podemo usar datos reales, solo una prediccion de estos"
   ]
  },
  {
   "cell_type": "code",
   "execution_count": 292,
   "metadata": {},
   "outputs": [],
   "source": [
    "clima['fecha'] = pd.to_datetime(clima['fecha']).apply(lambda x: str(x).split(' ')[0])"
   ]
  },
  {
   "cell_type": "code",
   "execution_count": 295,
   "metadata": {},
   "outputs": [
    {
     "data": {
      "text/plain": [
       "(Index(['fecha', 'subestacion', 'lat', 'lon', 'ALLSKY_SFC_SW_DWN', 'KT',\n",
       "        'PRECTOT', 'RH2M', 'T2M', 'T2MDEW', 'T2M_MAX', 'T2M_MIN', 'TQV', 'TS',\n",
       "        'WS10M', 'WS10M_MAX', 'WS10M_MIN', 'WS50M', 'WS50M_MAX', 'WS50M_MIN'],\n",
       "       dtype='object'),\n",
       " Index(['nemotecnico_se', 'fecha', 'hora', 'cmg_real', 'cmg_prog', 'cmg_desv',\n",
       "        'cmg_desv_pct', 'n_barras', 'demanda_mwh', 'cap_inst_mw', 'Month',\n",
       "        'Week', 'day', 'W_day', 'dum_week_day', 'target', 'en_total_mwh',\n",
       "        'new_target'],\n",
       "       dtype='object'))"
      ]
     },
     "execution_count": 295,
     "metadata": {},
     "output_type": "execute_result"
    }
   ],
   "source": [
    "clima.columns, data_2.columns"
   ]
  },
  {
   "cell_type": "markdown",
   "metadata": {},
   "source": [
    "¿Cuánto mejora la capacidad predictiva del modelo? ¿Cuáles variables son las más importantes?"
   ]
  },
  {
   "cell_type": "code",
   "execution_count": 297,
   "metadata": {},
   "outputs": [],
   "source": [
    "data_3 = pd.merge(data_2, clima, how='left', left_on =['nemotecnico_se','fecha'],right_on=['subestacion','fecha'])"
   ]
  },
  {
   "cell_type": "code",
   "execution_count": 305,
   "metadata": {},
   "outputs": [
    {
     "name": "stderr",
     "output_type": "stream",
     "text": [
      "C:\\Users\\algon\\Anaconda3\\lib\\site-packages\\ipykernel_launcher.py:2: UserWarning: Boolean Series key will be reindexed to match DataFrame index.\n",
      "  \n",
      "C:\\Users\\algon\\Anaconda3\\lib\\site-packages\\ipykernel_launcher.py:3: UserWarning: Boolean Series key will be reindexed to match DataFrame index.\n",
      "  This is separate from the ipykernel package so we can avoid doing imports until\n",
      "C:\\Users\\algon\\AppData\\Roaming\\Python\\Python37\\site-packages\\pandas\\core\\frame.py:3940: SettingWithCopyWarning: \n",
      "A value is trying to be set on a copy of a slice from a DataFrame\n",
      "\n",
      "See the caveats in the documentation: http://pandas.pydata.org/pandas-docs/stable/indexing.html#indexing-view-versus-copy\n",
      "  errors=errors)\n",
      "C:\\Users\\algon\\Anaconda3\\lib\\site-packages\\ipykernel_launcher.py:6: SettingWithCopyWarning: \n",
      "A value is trying to be set on a copy of a slice from a DataFrame\n",
      "\n",
      "See the caveats in the documentation: http://pandas.pydata.org/pandas-docs/stable/indexing.html#indexing-view-versus-copy\n",
      "  \n",
      "C:\\Users\\algon\\Anaconda3\\lib\\site-packages\\ipykernel_launcher.py:7: SettingWithCopyWarning: \n",
      "A value is trying to be set on a copy of a slice from a DataFrame\n",
      "\n",
      "See the caveats in the documentation: http://pandas.pydata.org/pandas-docs/stable/indexing.html#indexing-view-versus-copy\n",
      "  import sys\n"
     ]
    }
   ],
   "source": [
    "mask = ((data_3.fecha=='2019-06-30') & (data_2.hora>=1))\n",
    "train = data_3[~mask]\n",
    "test = data_3[mask]\n",
    "train.drop(columns=['nemotecnico_se','fecha','subestacion'],inplace=True)\n",
    "test.drop(columns=['nemotecnico_se','fecha','subestacion'],inplace=True)\n",
    "train.dropna(inplace=True)\n",
    "test.dropna(inplace=True)\n",
    "train =train[~train.isin([np.nan, np.inf, -np.inf]).any(1)]\n",
    "test =test[~test.isin([np.nan, np.inf, -np.inf]).any(1)]"
   ]
  },
  {
   "cell_type": "code",
   "execution_count": 306,
   "metadata": {},
   "outputs": [
    {
     "data": {
      "text/plain": [
       "RandomForestClassifier(bootstrap=True, ccp_alpha=0.0, class_weight=None,\n",
       "                       criterion='gini', max_depth=10, max_features='auto',\n",
       "                       max_leaf_nodes=None, max_samples=None,\n",
       "                       min_impurity_decrease=0.0, min_impurity_split=None,\n",
       "                       min_samples_leaf=1, min_samples_split=2,\n",
       "                       min_weight_fraction_leaf=0.0, n_estimators=1000,\n",
       "                       n_jobs=None, oob_score=False, random_state=None,\n",
       "                       verbose=0, warm_start=False)"
      ]
     },
     "execution_count": 306,
     "metadata": {},
     "output_type": "execute_result"
    }
   ],
   "source": [
    "train_X = train.loc[:,train.columns !='new_target'].to_numpy()\n",
    "train_Y = train['new_target'].to_numpy()\n",
    "\n",
    "test_X = test.loc[:,test.columns !='new_target'].to_numpy()\n",
    "test_Y = test['new_target'].to_numpy()\n",
    "\n",
    "rfc = RandomForestClassifier(n_estimators=1000,max_features='auto',criterion='gini',max_depth=10)\n",
    "rfc.fit(train_X,train_Y)"
   ]
  },
  {
   "cell_type": "code",
   "execution_count": 307,
   "metadata": {},
   "outputs": [],
   "source": [
    "Y_prob_predict = rfc.predict_proba(test_X)[:,1]"
   ]
  },
  {
   "cell_type": "code",
   "execution_count": 308,
   "metadata": {},
   "outputs": [
    {
     "data": {
      "text/plain": [
       "0.3524590163934426"
      ]
     },
     "execution_count": 308,
     "metadata": {},
     "output_type": "execute_result"
    }
   ],
   "source": [
    "test_Y.sum()/len(test_Y)"
   ]
  },
  {
   "cell_type": "code",
   "execution_count": 309,
   "metadata": {},
   "outputs": [
    {
     "data": {
      "text/plain": [
       "0.62"
      ]
     },
     "execution_count": 309,
     "metadata": {},
     "output_type": "execute_result"
    }
   ],
   "source": [
    "#Similar a lo anterior evaluao segun precision. En el top 100 ya que el numero de positivos es sustancialmente mayor que con el anterior\n",
    "sort_index_mayor_prob = np.argsort(-Y_prob_predict)\n",
    "test_Y[sort_index_mayor_prob][:100].sum()/100"
   ]
  },
  {
   "cell_type": "code",
   "execution_count": 310,
   "metadata": {},
   "outputs": [
    {
     "data": {
      "image/png": "[encoded data removed]",
      "text/plain": [
       "<Figure size 432x288 with 1 Axes>"
      ]
     },
     "metadata": {
      "needs_background": "light"
     },
     "output_type": "display_data"
    }
   ],
   "source": [
    "columns_names = train.loc[:,train.columns !='new_target'].columns\n",
    "features_importance = np.argsort(rfc.feature_importances_)\n",
    "\n",
    "feat =  columns_names[features_importance]\n",
    "y_pos = np.arange(len(feat))\n",
    "impt = rfc.feature_importances_[features_importance]\n",
    "\n",
    "plt.barh(y_pos, impt, align='center', alpha=0.5)\n",
    "plt.yticks(y_pos, feat)\n",
    "plt.xlabel('score')\n",
    "plt.title('Importancia de las variables explicativas')\n",
    "\n",
    "plt.show()"
   ]
  },
  {
   "cell_type": "markdown",
   "metadata": {},
   "source": [
    "La metrica mejora bastante, podemos predecir correctarmente el 62% de los desvios mas probables en las proxima 12 horas, que es mejor que el 48% que obtuvimos antes. Pero hay un problema de data leakege con las variables de clima. Podemos ver que las variables mas importantes son la semana y el dia, y luego hay varias variables relacionadas con el clima."
   ]
  },
  {
   "cell_type": "markdown",
   "metadata": {},
   "source": [
    "#### __8. Reflexión__\n",
    "\n",
    "- ¿Por qué sería bueno utilizar un modelo como este para anticiparse a desvíos de precios de la energía?\n",
    "<br> \n",
    "Por que en mi aproximacion al problema podemos definir cuantos desvios mas problables podemos arreglar, evitar o sacar provecho economico, condicionado a los recursos o riesgo que queramos correr (el top X queda definido por el cliente!). Ademas el modelo muestra que es mejor que hacerlo de manera aleatoria.\n",
    "<br>\n",
    "- ¿Qué casos de uso te imaginas podrían beneficiarse teniendo acceso a un modelo como este?\n",
    "<br>\n",
    "No soy un experto pero supongo que el coordinador electrico le gustaria evitar desvios ya que pueden ser costos, en ese caso el modelo le puede ayudar para intervenir. O tambien una empresa electrica podria sacar provecho economico si opera cuando hay desvios que le favorezcan, si no me equivoco el pago depende del cmg total del sistema\n"
   ]
  }
 ],
 "metadata": {
  "kernelspec": {
   "display_name": "Python 3",
   "language": "python",
   "name": "python3"
  },
  "language_info": {
   "codemirror_mode": {
    "name": "ipython",
    "version": 3
   },
   "file_extension": ".py",
   "mimetype": "text/x-python",
   "name": "python",
   "nbconvert_exporter": "python",
   "pygments_lexer": "ipython3",
   "version": "3.7.6"
  }
 },
 "nbformat": 4,
 "nbformat_minor": 2
}
